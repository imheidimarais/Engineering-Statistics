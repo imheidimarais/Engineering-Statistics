{
 "cells": [
  {
   "cell_type": "code",
   "execution_count": 3,
   "metadata": {},
   "outputs": [],
   "source": [
    "import numpy\n",
    "from scipy import stats\n",
    "import pandas\n",
    "\n",
    "import itertools\n",
    "from tabulate import tabulate\n",
    "from statsmodels.stats.multicomp import pairwise_tukeyhsd"
   ]
  },
  {
   "cell_type": "markdown",
   "metadata": {},
   "source": [
    "Module 2 starts off by introducing the one-way Anova test. \n",
    "Here we will not go into any details regarding it, but will only provide the tools to perform the analysis.\n",
    "\n",
    "The format of the analysis and the presentation of the results will be based on the Anova table in section 15.2.2 of the course book."
   ]
  },
  {
   "cell_type": "code",
   "execution_count": 5,
   "metadata": {},
   "outputs": [],
   "source": [
    "def shapiro_wilk(dataset):\n",
    "    result = sstats.shapiro(dataset.tolist())\n",
    "    print(result)\n",
    "    if result[1]>0.05:\n",
    "        print('Accept H0')\n",
    "        return('Accept H0')\n",
    "    if result[1]<0.05:\n",
    "        print('Reject H0')\n",
    "        return('Reject H0')"
   ]
  },
  {
   "cell_type": "code",
   "execution_count": 4,
   "metadata": {},
   "outputs": [],
   "source": [
    "def ANOVA(dataset,independent,dependent,confidence = 0.95):\n",
    "    groups = pandas.unique(dataset[independent])\n",
    "    k = len(groups)  # number of groups\n",
    "    n = len(dataset[dependent])  # number of dependent data points\n",
    "\n",
    "    # here we calculate the three degrees of freedom used in the ANOVA\n",
    "    DFbetween = k - 1\n",
    "    DFwithin = n - k\n",
    "    DFtotal = n - 1\n",
    "\n",
    "    # we use textbook notation:\n",
    "    # x_dd = sum over i and j x_ij\n",
    "    # x_id = sum over j x_ij\n",
    "    # x_dj = sum over i x_ij\n",
    "    # where i is the idependent variable and j is the dependent variable\n",
    "\n",
    "    x_dd = sum(dataset[dependent])\n",
    "    CF = (x_dd**2)/n\n",
    "\n",
    "    SStotal = sum(x_ij**2 for x_ij in dataset[dependent]) - CF\n",
    "\n",
    "    SSbetween = 0\n",
    "    for i in groups:\n",
    "      group_data = dataset.loc[dataset[independent]==i]\n",
    "      n_i = len(group_data[dependent])\n",
    "      x_id = sum(group_data[dependent])\n",
    "      SSbetween += (x_id**2)/n_i\n",
    "\n",
    "    SSbetween = SSbetween - CF # so^2 - s^2\n",
    "\n",
    "    SSwithin = SStotal - SSbetween\n",
    "\n",
    "    MSbetween = SSbetween/DFbetween\n",
    "    MSwithin = SSwithin/DFwithin\n",
    "\n",
    "    F = MSbetween/MSwithin\n",
    "    p = sstats.f.sf(F, DFbetween, DFwithin)\n",
    "\n",
    "    print(tabulate([['Between', DFbetween, SSbetween, MSbetween, F],\n",
    "                    ['Within', DFwithin, SSwithin, MSwithin, ' '],\n",
    "                    ['Total', DFtotal, SStotal, ' ', ' ']],\n",
    "    headers=['Variation due to', 'DoF','Sum of squares','mean squares','F ratio']))\n",
    "    print('Significance (p value): '+str(p))\n",
    "    print('\\n')\n",
    "    alpha = 1-confidence\n",
    "    if p<alpha:\n",
    "      print(\"Reject null-hypothesis: There are statistical differences present.\")\n",
    "      print(pairwise_tukeyhsd(dataset[dependent], dataset[independent],alpha=alpha))\n",
    "    else:\n",
    "      print(\"Accept null-hypothesis: There are no statistical differences present.\")"
   ]
  },
  {
   "cell_type": "code",
   "execution_count": null,
   "metadata": {},
   "outputs": [],
   "source": []
  }
 ],
 "metadata": {
  "kernelspec": {
   "display_name": "Python 3",
   "language": "python",
   "name": "python3"
  },
  "language_info": {
   "codemirror_mode": {
    "name": "ipython",
    "version": 3
   },
   "file_extension": ".py",
   "mimetype": "text/x-python",
   "name": "python",
   "nbconvert_exporter": "python",
   "pygments_lexer": "ipython3",
   "version": "3.6.10"
  }
 },
 "nbformat": 4,
 "nbformat_minor": 4
}
