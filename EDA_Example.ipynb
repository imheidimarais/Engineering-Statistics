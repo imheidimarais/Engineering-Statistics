{
 "cells": [
  {
   "cell_type": "markdown",
   "metadata": {},
   "source": [
    "# Module 1 Example"
   ]
  },
  {
   "cell_type": "markdown",
   "metadata": {},
   "source": [
    "The dataset is known to contain information about the total nitrogen content, in mg N per $m^3$, in the effluent stream of a wastewater treatment plant. The required limit value is 18 mg N per $m^3$. The dataset contains daily samples for approximately a three week period.\n",
    "\n",
    "We are interested in seeing if the effluent complies with regulations, and if there may be problems complying with regulations in future."
   ]
  },
  {
   "cell_type": "markdown",
   "metadata": {},
   "source": [
    "We will begin by importing the relevant libraries and modules for our problem. We could also import these as we discover our need for them, but if we know what we're going to be doing we can go ahead and import the ones we know we will need."
   ]
  },
  {
   "cell_type": "code",
   "execution_count": 1,
   "metadata": {},
   "outputs": [],
   "source": [
    "import pandas\n",
    "import numpy\n",
    "from scipy import stats\n",
    "from matplotlib import pyplot"
   ]
  },
  {
   "cell_type": "markdown",
   "metadata": {},
   "source": [
    "We load in our data, as in the tutorial:"
   ]
  },
  {
   "cell_type": "code",
   "execution_count": 2,
   "metadata": {},
   "outputs": [],
   "source": [
    "N_data = pandas.read_csv(\n",
    "        r'https://raw.githubusercontent.com/imheidimarais/Engineering-Statistics/master/data/Ntot_Data.csv'\n",
    "    )"
   ]
  },
  {
   "cell_type": "markdown",
   "metadata": {},
   "source": [
    "And we can begin by making sure that our data imported properly and try understand what we're working with. We will do this by looking at the size of the dataframe, and the column names. These we can compare to our raw data file and make sure that the import went smoothly."
   ]
  },
  {
   "cell_type": "code",
   "execution_count": 3,
   "metadata": {},
   "outputs": [
    {
     "name": "stdout",
     "output_type": "stream",
     "text": [
      "Size of data: 21 rows, 1 column(s).\n",
      "The column title(s) in the dataset are:\n",
      "Ntot\n"
     ]
    }
   ],
   "source": [
    "print(f\"Size of data: {N_data.shape[0]} rows, {N_data.shape[1]} column(s).\")\n",
    "print(\"The column title(s) in the dataset are:\")\n",
    "for c in N_data.columns:\n",
    "    print(c) "
   ]
  },
  {
   "cell_type": "markdown",
   "metadata": {},
   "source": [
    "Having confirmed that the data imported as expected, perhaps a good place to start is with visualising our data. \n",
    "We are interested in: \n",
    "+ the spread of data\n",
    "+ the statistics (mean, variance, etc.)\n",
    "+ if there are any outliers/noise/missing data.\n",
    "\n",
    "We will use an index plot and a boxplot to accomplish this, the code is the same as in the tutorial, but here we specify the column name instead of keeping it completely general."
   ]
  },
  {
   "cell_type": "code",
   "execution_count": 4,
   "metadata": {},
   "outputs": [
    {
     "data": {
      "image/png": "[encoded data removed]",
      "text/plain": [
       "<Figure size 864x288 with 2 Axes>"
      ]
     },
     "execution_count": 4,
     "metadata": {},
     "output_type": "execute_result"
    }
   ],
   "source": [
    "fig = pyplot.Figure(figsize=(12, 4))\n",
    "ax1 = fig.add_subplot(1, 2, 1)\n",
    "ax2 = fig.add_subplot(1, 2, 2)\n",
    "\n",
    "N_data.reset_index().plot(x='index', y='Ntot', kind='scatter', ax=ax1)\n",
    "N_data.boxplot(column='Ntot', ax=ax2)\n",
    "\n",
    "ax1.set(\n",
    "        xlabel='Index',\n",
    "        ylabel='$x$'\n",
    "    )\n",
    "ax2.set(\n",
    "        xlabel='Sample',\n",
    "        ylabel='$x$'        \n",
    "    )\n",
    "fig"
   ]
  },
  {
   "cell_type": "markdown",
   "metadata": {},
   "source": [
    "We see that there are three suspected outliers, all below our regulation limit. And we can see the median is around 16.6. The data appears well behaved aside from the outliers. \n",
    "\n",
    "We can calculate the sample statistics:"
   ]
  },
  {
   "cell_type": "code",
   "execution_count": 5,
   "metadata": {},
   "outputs": [
    {
     "name": "stdout",
     "output_type": "stream",
     "text": [
      "            Ntot\n",
      "count  21.000000\n",
      "mean   15.736190\n",
      "std     2.188585\n",
      "min     9.860000\n",
      "25%    15.900000\n",
      "50%    16.600000\n",
      "75%    16.800000\n",
      "max    17.400000\n"
     ]
    }
   ],
   "source": [
    "descriptive_statistics = N_data.describe()\n",
    "print(descriptive_statistics)"
   ]
  },
  {
   "cell_type": "markdown",
   "metadata": {},
   "source": [
    "And we can immediately see the calculated mean is much lower than the median, and does not appear to represent the majority of the data. The outliers are dragging it down significantly.\n",
    "\n",
    "However, for the sake of completeness we will look at the distribution of the data before we remove any outliers. We will do this with a histogram, and an empirical cumulative distribution function. We will overlay the pdf and cdf of a true normal distribution with the same mean and variance as our data."
   ]
  },
  {
   "cell_type": "code",
   "execution_count": 6,
   "metadata": {},
   "outputs": [
    {
     "data": {
      "image/png": "[encoded data removed]",
      "text/plain": [
       "<Figure size 864x288 with 2 Axes>"
      ]
     },
     "execution_count": 6,
     "metadata": {},
     "output_type": "execute_result"
    }
   ],
   "source": [
    "number_bins = 10\n",
    "fig = pyplot.Figure(figsize=(12, 4))\n",
    "ax1 = fig.add_subplot(1, 2, 1)\n",
    "ax2 = fig.add_subplot(1, 2, 2)\n",
    "\n",
    "N_data.hist(column='Ntot', bins=number_bins, density=True, ax=ax1)\n",
    "\n",
    "xrange1 = (N_data['Ntot'].min(), N_data['Ntot'].max())\n",
    "normal_pdf_xs = numpy.linspace(xrange1[0], xrange1[1], 100)\n",
    "normal_pdf_ys = stats.norm.pdf(\n",
    "        normal_pdf_xs, loc=descriptive_statistics['Ntot']['mean'], scale=descriptive_statistics['Ntot']['std']\n",
    "    )\n",
    "ax1.plot(normal_pdf_xs, normal_pdf_ys, c=\"orange\")\n",
    "\n",
    "\n",
    "N_data_sorted = N_data.sort_values(by='Ntot', ascending=True)\n",
    "ecdf = [n/N_data_sorted.shape[0] for n in range(1, N_data_sorted.shape[0]+1)]\n",
    "N_data_sorted['ecdf'] = numpy.array(ecdf)\n",
    "\n",
    "normal_cdf_ys = stats.norm.cdf(\n",
    "        normal_pdf_xs, loc=descriptive_statistics['Ntot']['mean'], scale=descriptive_statistics['Ntot']['std']\n",
    "    )\n",
    "\n",
    "N_data_sorted.plot(x='Ntot', y='ecdf', kind='scatter', ax=ax2)\n",
    "ax2.plot(normal_pdf_xs, normal_cdf_ys, c=\"orange\")\n",
    "\n",
    "ax1.set(\n",
    "        xlabel='$x$',\n",
    "        ylabel='Frequency'\n",
    "    )\n",
    "\n",
    "ax2.set(\n",
    "        xlabel='$x$',\n",
    "        ylabel='ecdf'\n",
    "    )\n",
    "fig"
   ]
  },
  {
   "cell_type": "markdown",
   "metadata": {},
   "source": [
    "The outliers make it impossible to compare our data to the theoretical normal distribution, and they severely skew the histogram and ecdf plots.\n",
    "\n",
    "For now, we can temporarily remove the outliers. Exercise caution when removing outliers in general as they may contain important information. In this case they were below the regulation limit (not concerning) and an analysis of additional data showed that they came from days with extremely high rainfall. So, for our purposes we can consider it safe to remove the outliers."
   ]
  },
  {
   "cell_type": "code",
   "execution_count": 7,
   "metadata": {},
   "outputs": [],
   "source": [
    "N_data_no_outliers = N_data[N_data['Ntot']>12]"
   ]
  },
  {
   "cell_type": "markdown",
   "metadata": {},
   "source": [
    "We will now look again at the descriptive statistics, and then at the distributions."
   ]
  },
  {
   "cell_type": "code",
   "execution_count": 8,
   "metadata": {},
   "outputs": [
    {
     "name": "stdout",
     "output_type": "stream",
     "text": [
      "            Ntot\n",
      "count  18.000000\n",
      "mean   16.583333\n",
      "std     0.510190\n",
      "min    15.700000\n",
      "25%    16.325000\n",
      "50%    16.650000\n",
      "75%    16.950000\n",
      "max    17.400000\n"
     ]
    },
    {
     "data": {
      "image/png": "[encoded data removed]",
      "text/plain": [
       "<Figure size 864x288 with 2 Axes>"
      ]
     },
     "execution_count": 8,
     "metadata": {},
     "output_type": "execute_result"
    }
   ],
   "source": [
    "descriptive_statistics_new = N_data_no_outliers.describe()\n",
    "print(descriptive_statistics_new)\n",
    "number_bins = 10\n",
    "fig = pyplot.Figure(figsize=(12, 4))\n",
    "ax1 = fig.add_subplot(1, 2, 1)\n",
    "ax2 = fig.add_subplot(1, 2, 2)\n",
    "\n",
    "N_data_no_outliers.hist(column='Ntot', bins=number_bins, density=True, ax=ax1)\n",
    "\n",
    "xrange1 = (N_data_no_outliers['Ntot'].min(), N_data_no_outliers['Ntot'].max())\n",
    "normal_pdf_xs = numpy.linspace(xrange1[0], xrange1[1], 100)\n",
    "normal_pdf_ys = stats.norm.pdf(\n",
    "        normal_pdf_xs, loc=descriptive_statistics_new['Ntot']['mean'], scale=descriptive_statistics_new['Ntot']['std']\n",
    "    )\n",
    "ax1.plot(normal_pdf_xs, normal_pdf_ys, c=\"orange\")\n",
    "\n",
    "\n",
    "N_data_sorted = N_data_no_outliers.sort_values(by='Ntot', ascending=True)\n",
    "ecdf = [n/N_data_sorted.shape[0] for n in range(1, N_data_sorted.shape[0]+1)]\n",
    "N_data_sorted['ecdf'] = numpy.array(ecdf)\n",
    "\n",
    "normal_cdf_ys = stats.norm.cdf(\n",
    "        normal_pdf_xs, loc=descriptive_statistics_new['Ntot']['mean'], scale=descriptive_statistics_new['Ntot']['std']\n",
    "    )\n",
    "\n",
    "N_data_sorted.plot(x='Ntot', y='ecdf', kind='scatter', ax=ax2)\n",
    "ax2.plot(normal_pdf_xs, normal_cdf_ys, c=\"orange\")\n",
    "\n",
    "ax1.set(\n",
    "        xlabel='$x$',\n",
    "        ylabel='Frequency'\n",
    "    )\n",
    "\n",
    "ax2.set(\n",
    "        xlabel='$x$',\n",
    "        ylabel='ecdf'\n",
    "    )\n",
    "fig"
   ]
  },
  {
   "cell_type": "markdown",
   "metadata": {},
   "source": [
    "We can see that the mean is much closer to the median value we observed in the boxplot, which is a good sign!\n",
    "\n",
    "We also see that, especially the ecdf, appears fairly normal. While this does not pass as any true test of normallity, it is still a useful thing to do to get an idea of the distribution of your data so that you can better interpret the results of statistical tests that you may carry out."
   ]
  }
 ],
 "metadata": {
  "kernelspec": {
   "display_name": "Python 3",
   "language": "python",
   "name": "python3"
  },
  "language_info": {
   "codemirror_mode": {
    "name": "ipython",
    "version": 3
   },
   "file_extension": ".py",
   "mimetype": "text/x-python",
   "name": "python",
   "nbconvert_exporter": "python",
   "pygments_lexer": "ipython3",
   "version": "3.6.10"
  }
 },
 "nbformat": 4,
 "nbformat_minor": 4
}
