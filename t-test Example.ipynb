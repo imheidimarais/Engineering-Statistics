{
 "cells": [
  {
   "cell_type": "markdown",
   "metadata": {},
   "source": [
    "# Question:\n",
    "You are given Pyrolysis data containing temperatures and produced syngas volume. The independent variable is the temperature, two different temperatures are provided.\n",
    "The task is to compare the means of the two groups and use independent sample t-test to determine if there is a significant difference. The confidence level should be 95%. \n",
    "Include in your results the group statistics and the t–test results.\n",
    "\n",
    "We start off by just including the functions that we developed in the tutorial notebook."
   ]
  },
  {
   "cell_type": "code",
   "execution_count": 1,
   "metadata": {},
   "outputs": [],
   "source": [
    "import pandas\n",
    "from scipy import stats\n",
    "import numpy\n",
    "\n",
    "def get_confidence_interval(data, confidence=0.95):\n",
    "    \"\"\" Determines the confidence interval for a given set of data, \n",
    "        assuming the population standard deviation is not known.\n",
    "    Args:  # 'arguments', or inputs to the function\n",
    "        data (single-column or list): The data\n",
    "        confidence (float): The confidence level on which to produce the interval.\n",
    "    Returns:\n",
    "        c_interval (tuple): The confidence interval on the given data (lower, upper).\n",
    "    \"\"\"\n",
    "\n",
    "    n = len(data)  # determines the sample size\n",
    "    m = numpy.mean(data)  # obtains mean of the sample\n",
    "\n",
    "    se = stats.sem(data)  # obtains standard error of the sample\n",
    "\n",
    "    c_interval = stats.t.interval(confidence, n-1, m, se)  # determines the confidence interval\n",
    "    return c_interval  # which is of the form (lower bound, upper bound)\n",
    "\n",
    "def t_test(data_group1, data_group2, confidence=0.95):\n",
    "    alpha = 1-confidence\n",
    "\n",
    "    if stats.levene(data_group1, data_group2)[1]>alpha:\n",
    "        equal_variance = True\n",
    "    else:\n",
    "        equal_variance = False\n",
    "\n",
    "    t, p = stats.ttest_ind(data_group1, data_group2, equal_var = equal_variance)\n",
    "\n",
    "    accept_H0 = \"False\"\n",
    "    if p>alpha:\n",
    "        accept_H0 = \"True\"\n",
    "\n",
    "    return({'t': t, \"p\": p, \"Accept H0\": accept_H0})"
   ]
  },
  {
   "cell_type": "markdown",
   "metadata": {},
   "source": [
    "Now, the first step is to load in our data from our excel or csv file.\n",
    "We will also look at the headings of the columns in our data to get an idea of what we are working with."
   ]
  },
  {
   "cell_type": "code",
   "execution_count": 2,
   "metadata": {},
   "outputs": [
    {
     "data": {
      "text/plain": [
       "Index(['Temperature', 'Syngas Volume'], dtype='object')"
      ]
     },
     "execution_count": 2,
     "metadata": {},
     "output_type": "execute_result"
    }
   ],
   "source": [
    "pyrolysis_data = pandas.read_csv('data//Pyrolysis.csv')\n",
    "column_names = pyrolysis_data.columns\n",
    "column_names"
   ]
  },
  {
   "cell_type": "markdown",
   "metadata": {},
   "source": [
    "We see that we have temperature and syngas volume supplied in the data. This is inline with what the question indicated. \n",
    "The question states that temperature is the independent variable (which makes sense accoring to what we know of pyrolysis). \n",
    "Let's assign the names of those columns to variables:"
   ]
  },
  {
   "cell_type": "code",
   "execution_count": 3,
   "metadata": {},
   "outputs": [],
   "source": [
    "independent_var = column_names[0]\n",
    "dependent_var = column_names[1]"
   ]
  },
  {
   "cell_type": "markdown",
   "metadata": {},
   "source": [
    "So, next we should find out how many values of our independent variable are present and what they are. We do that with a pandas command that finds the unique values in a given column. "
   ]
  },
  {
   "cell_type": "code",
   "execution_count": 4,
   "metadata": {},
   "outputs": [
    {
     "data": {
      "text/plain": [
       "array([753, 793], dtype=int64)"
      ]
     },
     "execution_count": 4,
     "metadata": {},
     "output_type": "execute_result"
    }
   ],
   "source": [
    "values_of_independent_var = pandas.unique(pyrolysis_data[independent_var])\n",
    "values_of_independent_var"
   ]
  },
  {
   "cell_type": "markdown",
   "metadata": {},
   "source": [
    "We see that there are only two groups, a temperature of 753 degrees Celcius and one of 793. \n",
    "\n",
    "If we recall from the qestion/problem statement: we should perform an independent sample t-test to compare the means of the groups and determine if they are statistically different or not. We should present our results along with the statistics for the two groups.\n",
    "\n",
    "We would like to begin by calculating the statistics for our two groups using the .describe function we used in the tutorial. But, if you recall, we must first \"separate\" the data as it is currently in a single column.\n",
    "\n",
    "We do this with the list comprehension below, selecting all the rows of the dataset where the independent variable is equal to the first, and then the second, of the values we determined in the previous section of code."
   ]
  },
  {
   "cell_type": "code",
   "execution_count": 5,
   "metadata": {},
   "outputs": [],
   "source": [
    "Group_753 = pyrolysis_data.loc[pyrolysis_data[independent_var]==values_of_independent_var[0]]\n",
    "Group_793 = pyrolysis_data.loc[pyrolysis_data[independent_var]==values_of_independent_var[1]]"
   ]
  },
  {
   "cell_type": "markdown",
   "metadata": {},
   "source": [
    "Now we can get the group statistics:"
   ]
  },
  {
   "cell_type": "code",
   "execution_count": 6,
   "metadata": {},
   "outputs": [
    {
     "name": "stdout",
     "output_type": "stream",
     "text": [
      "       Temperature  Syngas Volume\n",
      "count         27.0      27.000000\n",
      "mean         753.0       0.161671\n",
      "std            0.0       0.010420\n",
      "min          753.0       0.143617\n",
      "25%          753.0       0.152269\n",
      "50%          753.0       0.163481\n",
      "75%          753.0       0.169802\n",
      "max          753.0       0.179406\n",
      "\n",
      "       Temperature  Syngas Volume\n",
      "count         27.0      27.000000\n",
      "mean         793.0       0.188444\n",
      "std            0.0       0.008817\n",
      "min          793.0       0.169676\n",
      "25%          793.0       0.184338\n",
      "50%          793.0       0.189009\n",
      "75%          793.0       0.192935\n",
      "max          793.0       0.209312\n"
     ]
    }
   ],
   "source": [
    "print(Group_753.describe())\n",
    "print()\n",
    "print(Group_793.describe())"
   ]
  },
  {
   "cell_type": "markdown",
   "metadata": {},
   "source": [
    "We only care about the statistics for the dependent variable, but we print it for both the independent and dependent just to make sure that we had no errors in how we separated the data.\n",
    "\n",
    "The variables we care about in this table are: \"count\" - the number of samples, \"mean\" - the mean value, \"std\" - the standard deviation, \"min\" - the minimum value, and \"max\" - the maximum value. These help us understand our data better.\n",
    "\n",
    "We can also determine the confidence interval on the mean for the dependent variables in the two groups:"
   ]
  },
  {
   "cell_type": "code",
   "execution_count": 7,
   "metadata": {},
   "outputs": [
    {
     "name": "stdout",
     "output_type": "stream",
     "text": [
      "Group 753: (0.1575492241047826, 0.16579288693225439)\n",
      "Group 793: (0.18495575917054885, 0.19193184653315487)\n"
     ]
    }
   ],
   "source": [
    "print(\"Group 753:\", get_confidence_interval(Group_753[dependent_var], confidence=0.95))\n",
    "print(\"Group 793:\", get_confidence_interval(Group_793[dependent_var], confidence=0.95))"
   ]
  },
  {
   "cell_type": "markdown",
   "metadata": {},
   "source": [
    "Looking at the values of the means and their confidence intervals it seems likely that the two groups are indeed statistically different. But to confirm we will perform a t-test. \n",
    "Let us first recall the hypothesis: \\\n",
    "$H_0 : \\mu_1 - \\mu_2 = 0$\\\n",
    "$H_1 : \\mu_1 - \\mu_2 \\neq 0$\n",
    "\n",
    "The null hypothesis states that the means from the two groups are equal. We can perform a t-test, and remember that the function we created will output the t-value, the p-value, and whether or not we should accept or reject the null hypothesis based on the p-value relative to our desired confidence level."
   ]
  },
  {
   "cell_type": "code",
   "execution_count": 8,
   "metadata": {},
   "outputs": [
    {
     "data": {
      "text/plain": [
       "{'t': -10.191851675980322, 'p': 5.370645652707995e-14, 'Accept H0': 'False'}"
      ]
     },
     "execution_count": 8,
     "metadata": {},
     "output_type": "execute_result"
    }
   ],
   "source": [
    "t_test(Group_753[dependent_var], Group_793[dependent_var], confidence=0.95)"
   ]
  },
  {
   "cell_type": "code",
   "execution_count": null,
   "metadata": {},
   "outputs": [],
   "source": []
  }
 ],
 "metadata": {
  "kernelspec": {
   "display_name": "Python 3",
   "language": "python",
   "name": "python3"
  },
  "language_info": {
   "codemirror_mode": {
    "name": "ipython",
    "version": 3
   },
   "file_extension": ".py",
   "mimetype": "text/x-python",
   "name": "python",
   "nbconvert_exporter": "python",
   "pygments_lexer": "ipython3",
   "version": "3.6.10"
  }
 },
 "nbformat": 4,
 "nbformat_minor": 4
}
