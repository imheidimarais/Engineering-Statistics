{
 "cells": [
  {
   "cell_type": "markdown",
   "metadata": {},
   "source": [
    "# Question:\n",
    "You are given Pyrolysis data containing temperatures and produced syngas volume. The independent variable is the temperature, two different temperatures are provided.\n",
    "The task is to compare the means of the two groups and use independent sample t-test to determine if there is a significant difference. The confidence level should be 95%. \n",
    "Include in your results the group statistics and the t–test results.\n",
    "\n",
    "We start off by just including the functions that we developed in the tutorial notebook."
   ]
  },
  {
   "cell_type": "code",
   "execution_count": 1,
   "metadata": {},
   "outputs": [],
   "source": [
    "import pandas\n",
    "from scipy import stats\n",
    "import numpy\n",
    "\n",
    "def get_confidence_interval(data, confidence=0.95):\n",
    "    \"\"\" Determines the confidence interval for a given set of data, \n",
    "        assuming the population standard deviation is not known.\n",
    "\n",
    "    Args:  # 'arguments', or inputs to the function\n",
    "        data (single-column or list): The data\n",
    "        confidence (float): The confidence level on which to produce the interval.\n",
    "\n",
    "    Returns:\n",
    "        c_interval (tuple): The confidence interval on the given data (lower, upper).\n",
    "    \"\"\"\n",
    "\n",
    "    n = len(data)  # determines the sample size\n",
    "    m = numpy.mean(data)  # obtains mean of the sample\n",
    "\n",
    "    se = stats.sem(data)  # obtains standard error of the sample\n",
    "\n",
    "    c_interval = stats.t.interval(confidence, n-1, m, se)  # determines the confidence interval\n",
    "    return c_interval  # which is of the form (lower bound, upper bound)\n",
    "\n",
    "def t_test(data_group1, data_group2, confidence=0.95):\n",
    "    alpha = 1-confidence\n",
    "\n",
    "    if stats.levene(data_group1, data_group2)[1]>alpha:\n",
    "        equal_variance = True\n",
    "    else:\n",
    "        equal_variance = False\n",
    "\n",
    "    t, p = stats.ttest_ind(data_group1, data_group2, equal_var = equal_variance)\n",
    "\n",
    "    reject_H0 = \"True\"\n",
    "    if p > alpha:\n",
    "        reject_H0 = \"False\"\n",
    "\n",
    "    return({'t': t, \"p\": p, \"Reject H0\": reject_H0})"
   ]
  },
  {
   "cell_type": "markdown",
   "metadata": {},
   "source": [
    "Now, the first step is to load in our data from our excel or csv file.\n",
    "We will also look at the headings of the columns in our data to get an idea of what we are working with."
   ]
  },
  {
   "cell_type": "code",
   "execution_count": 2,
   "metadata": {},
   "outputs": [
    {
     "data": {
      "text/plain": [
       "Index(['Temperature', 'Syngas Volume'], dtype='object')"
      ]
     },
     "execution_count": 2,
     "metadata": {},
     "output_type": "execute_result"
    }
   ],
   "source": [
    "pyrolysis_data = pandas.read_csv('data//Pyrolysis.csv')\n",
    "column_names = pyrolysis_data.columns\n",
    "column_names"
   ]
  },
  {
   "cell_type": "markdown",
   "metadata": {},
   "source": [
    "We see that we have temperature and syngas volume supplied in the data. This is in line with what the question indicated. \n",
    "The question states that temperature is the independent variable (which makes sense accoring to what we know of pyrolysis). \n",
    "Let's assign the names of those columns to variables:"
   ]
  },
  {
   "cell_type": "code",
   "execution_count": 3,
   "metadata": {},
   "outputs": [],
   "source": [
    "independent_col = column_names[0]  # Temperature\n",
    "dependent_col = column_names[1]  # Syngas Volume"
   ]
  },
  {
   "cell_type": "markdown",
   "metadata": {},
   "source": [
    "So, next we should find out how many values of our independent variable are present and what they are. We do that with a pandas command that finds the unique values in a given column. "
   ]
  },
  {
   "cell_type": "code",
   "execution_count": 4,
   "metadata": {},
   "outputs": [
    {
     "data": {
      "text/plain": [
       "array([753, 793], dtype=int64)"
      ]
     },
     "execution_count": 4,
     "metadata": {},
     "output_type": "execute_result"
    }
   ],
   "source": [
    "independent_variable_values = pandas.unique(pyrolysis_data[independent_col])\n",
    "independent_variable_values"
   ]
  },
  {
   "cell_type": "markdown",
   "metadata": {},
   "source": [
    "We see that there are only two groups, a temperature of 753 degrees Celcius and one of 793. \n",
    "\n",
    "If we recall from the qestion/problem statement: we should perform an independent sample t-test to compare the means of the groups and determine if they are statistically different or not. We should present our results along with the statistics for the two groups.\n",
    "\n",
    "We would like to begin by calculating the statistics for our two groups using the .describe function we used in the tutorial. But, if you recall, we must first \"separate\" the data as it is currently in a single column."
   ]
  },
  {
   "cell_type": "code",
   "execution_count": 5,
   "metadata": {},
   "outputs": [],
   "source": [
    "dependent_variable_data = pandas.DataFrame(columns=[\"Syngas Volume 753 degC\", \"Syngas Volume 793 degC\"])"
   ]
  },
  {
   "cell_type": "markdown",
   "metadata": {},
   "source": [
    "Right now the DataFrame looks like this:"
   ]
  },
  {
   "cell_type": "code",
   "execution_count": 6,
   "metadata": {},
   "outputs": [
    {
     "data": {
      "text/html": [
       "<div>\n",
       "<style scoped>\n",
       "    .dataframe tbody tr th:only-of-type {\n",
       "        vertical-align: middle;\n",
       "    }\n",
       "\n",
       "    .dataframe tbody tr th {\n",
       "        vertical-align: top;\n",
       "    }\n",
       "\n",
       "    .dataframe thead th {\n",
       "        text-align: right;\n",
       "    }\n",
       "</style>\n",
       "<table border=\"1\" class=\"dataframe\">\n",
       "  <thead>\n",
       "    <tr style=\"text-align: right;\">\n",
       "      <th></th>\n",
       "      <th>Syngas Volume 753 degC</th>\n",
       "      <th>Syngas Volume 793 degC</th>\n",
       "    </tr>\n",
       "  </thead>\n",
       "  <tbody>\n",
       "  </tbody>\n",
       "</table>\n",
       "</div>"
      ],
      "text/plain": [
       "Empty DataFrame\n",
       "Columns: [Syngas Volume 753 degC, Syngas Volume 793 degC]\n",
       "Index: []"
      ]
     },
     "execution_count": 6,
     "metadata": {},
     "output_type": "execute_result"
    }
   ],
   "source": [
    "dependent_variable_data"
   ]
  },
  {
   "cell_type": "markdown",
   "metadata": {},
   "source": [
    "Let's put the correct data into it now, as in the tutorial:"
   ]
  },
  {
   "cell_type": "code",
   "execution_count": 7,
   "metadata": {},
   "outputs": [],
   "source": [
    "dependent_variable_data[\"Syngas Volume 753 degC\"] = pyrolysis_data[\"Syngas Volume\"][pyrolysis_data[\"Temperature\"]==753].reset_index(drop=True)\n",
    "dependent_variable_data[\"Syngas Volume 793 degC\"] = pyrolysis_data[\"Syngas Volume\"][pyrolysis_data[\"Temperature\"]==793].reset_index(drop=True)"
   ]
  },
  {
   "cell_type": "markdown",
   "metadata": {},
   "source": [
    "The data now looks like this, only showing the first 5 entries:"
   ]
  },
  {
   "cell_type": "code",
   "execution_count": 8,
   "metadata": {},
   "outputs": [
    {
     "data": {
      "text/html": [
       "<div>\n",
       "<style scoped>\n",
       "    .dataframe tbody tr th:only-of-type {\n",
       "        vertical-align: middle;\n",
       "    }\n",
       "\n",
       "    .dataframe tbody tr th {\n",
       "        vertical-align: top;\n",
       "    }\n",
       "\n",
       "    .dataframe thead th {\n",
       "        text-align: right;\n",
       "    }\n",
       "</style>\n",
       "<table border=\"1\" class=\"dataframe\">\n",
       "  <thead>\n",
       "    <tr style=\"text-align: right;\">\n",
       "      <th></th>\n",
       "      <th>Syngas Volume 753 degC</th>\n",
       "      <th>Syngas Volume 793 degC</th>\n",
       "    </tr>\n",
       "  </thead>\n",
       "  <tbody>\n",
       "    <tr>\n",
       "      <th>0</th>\n",
       "      <td>0.155832</td>\n",
       "      <td>0.186018</td>\n",
       "    </tr>\n",
       "    <tr>\n",
       "      <th>1</th>\n",
       "      <td>0.150808</td>\n",
       "      <td>0.181926</td>\n",
       "    </tr>\n",
       "    <tr>\n",
       "      <th>2</th>\n",
       "      <td>0.146409</td>\n",
       "      <td>0.169676</td>\n",
       "    </tr>\n",
       "    <tr>\n",
       "      <th>3</th>\n",
       "      <td>0.166470</td>\n",
       "      <td>0.179420</td>\n",
       "    </tr>\n",
       "    <tr>\n",
       "      <th>4</th>\n",
       "      <td>0.179406</td>\n",
       "      <td>0.193431</td>\n",
       "    </tr>\n",
       "  </tbody>\n",
       "</table>\n",
       "</div>"
      ],
      "text/plain": [
       "   Syngas Volume 753 degC  Syngas Volume 793 degC\n",
       "0                0.155832                0.186018\n",
       "1                0.150808                0.181926\n",
       "2                0.146409                0.169676\n",
       "3                0.166470                0.179420\n",
       "4                0.179406                0.193431"
      ]
     },
     "execution_count": 8,
     "metadata": {},
     "output_type": "execute_result"
    }
   ],
   "source": [
    "dependent_variable_data[:5]"
   ]
  },
  {
   "cell_type": "markdown",
   "metadata": {},
   "source": [
    "Now we can get the group statistics:"
   ]
  },
  {
   "cell_type": "code",
   "execution_count": 9,
   "metadata": {},
   "outputs": [
    {
     "name": "stdout",
     "output_type": "stream",
     "text": [
      "       Syngas Volume 753 degC  Syngas Volume 793 degC\n",
      "count               27.000000               27.000000\n",
      "mean                 0.161671                0.188444\n",
      "std                  0.010420                0.008817\n",
      "min                  0.143617                0.169676\n",
      "25%                  0.152269                0.184338\n",
      "50%                  0.163481                0.189009\n",
      "75%                  0.169802                0.192935\n",
      "max                  0.179406                0.209312\n"
     ]
    }
   ],
   "source": [
    "print(dependent_variable_data.describe())"
   ]
  },
  {
   "cell_type": "markdown",
   "metadata": {},
   "source": [
    "The variables we care about in this table are: \"count\" - the number of samples, \"mean\" - the mean value, \"std\" - the standard deviation, \"min\" - the minimum value, and \"max\" - the maximum value. These help us understand our data better.\n",
    "\n",
    "We can also determine the 95% confidence interval on the mean for the dependent variables in the two groups:"
   ]
  },
  {
   "cell_type": "code",
   "execution_count": 10,
   "metadata": {},
   "outputs": [
    {
     "name": "stdout",
     "output_type": "stream",
     "text": [
      "Group 753: (0.1575492241047826, 0.16579288693225439)\n",
      "Group 793: (0.18495575917054885, 0.19193184653315487)\n"
     ]
    }
   ],
   "source": [
    "print(\"Group 753:\", get_confidence_interval(dependent_variable_data[\"Syngas Volume 753 degC\"], confidence=0.95))\n",
    "print(\"Group 793:\", get_confidence_interval(dependent_variable_data[\"Syngas Volume 793 degC\"], confidence=0.95))"
   ]
  },
  {
   "cell_type": "markdown",
   "metadata": {},
   "source": [
    "Looking at the values of the means and their confidence intervals it seems likely that the two groups are indeed statistically different. But to confirm we will perform a t-test. \n",
    "Let us first recall the hypothesis: \\\n",
    "$H_0 : \\mu_1 - \\mu_2 = 0$\\\n",
    "$H_1 : \\mu_1 - \\mu_2 \\neq 0$\n",
    "\n",
    "The null hypothesis states that the means from the two groups are equal. We can perform a t-test, and remember that the function we created will output the t-value, the p-value, and whether or not we can reject the null hypothesis based on the p-value relative to our desired confidence level."
   ]
  },
  {
   "cell_type": "code",
   "execution_count": 11,
   "metadata": {},
   "outputs": [
    {
     "data": {
      "text/plain": [
       "{'t': -10.191851675980322, 'p': 5.370645652707995e-14, 'Reject H0': 'True'}"
      ]
     },
     "execution_count": 11,
     "metadata": {},
     "output_type": "execute_result"
    }
   ],
   "source": [
    "t_test(dependent_variable_data[\"Syngas Volume 753 degC\"], dependent_variable_data[\"Syngas Volume 793 degC\"], confidence=0.95)"
   ]
  }
 ],
 "metadata": {
  "kernelspec": {
   "display_name": "Python 3",
   "language": "python",
   "name": "python3"
  },
  "language_info": {
   "codemirror_mode": {
    "name": "ipython",
    "version": 3
   },
   "file_extension": ".py",
   "mimetype": "text/x-python",
   "name": "python",
   "nbconvert_exporter": "python",
   "pygments_lexer": "ipython3",
   "version": "3.6.10"
  }
 },
 "nbformat": 4,
 "nbformat_minor": 4
}
