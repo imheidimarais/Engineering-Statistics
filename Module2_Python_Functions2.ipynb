{
 "cells": [
  {
   "cell_type": "markdown",
   "metadata": {},
   "source": [
    "# Module 2 Tutorial 2"
   ]
  },
  {
   "cell_type": "markdown",
   "metadata": {},
   "source": [
    "Module 2 continues by introducing the one-way Anova test. \n",
    "Here we will not go into any details regarding it, but will only provide the tools to perform the analysis.\n",
    "\n",
    "The format of the analysis and the presentation of the results will be based on the Anova table in section 15.2.2 of the course book.\n",
    "\n",
    "We begin by importing the modules that we will need, like in the previous tutorial."
   ]
  },
  {
   "cell_type": "code",
   "execution_count": 1,
   "metadata": {},
   "outputs": [],
   "source": [
    "import numpy\n",
    "from scipy import stats\n",
    "import pandas\n",
    "\n",
    "import itertools\n",
    "from tabulate import tabulate\n",
    "from statsmodels.stats.multicomp import pairwise_tukeyhsd"
   ]
  },
  {
   "cell_type": "markdown",
   "metadata": {},
   "source": [
    "The new modules that we are including are itertools ([itertools documentation](https://docs.python.org/2/library/itertools.html)) which gives us some powerful tools for iterating through lists, tabulate ([tabulate documentation](https://pypi.org/project/tabulate/)) which helps us present our results in a nice manner, and the pairwise tukey test from statsmodels ([tukey documentation](https://www.statsmodels.org/stable/generated/statsmodels.stats.multicomp.pairwise_tukeyhsd.html)) which is the post hoc test for our ANOVA analysis.\n",
    "\n",
    "Before we begin constructing the function that will perform our ANOVA analysis, we recall the assumptions for ANOVA:\n",
    "1. The dependent variable is continuous.\n",
    "2. The independent variable consists of two or more groups.\n",
    "3. The observations/samples are independent.\n",
    "4. There are no significant outliers.\n",
    "5. The dependent variable should be normally distributed for each value of the independent variable.\n",
    "6. The variances of the different groups should be homogeneous.\n",
    "\n",
    "As stated in the notes, there are ways around the problem if your data fails to satisfy one of the assumptions but for now we will just look briefly at how to check some of the assumptions and not what to do if they fail.\n",
    "\n",
    "Let's create some data to work with, the same data from our tutorial in module 1 but adding some additional data:"
   ]
  },
  {
   "cell_type": "code",
   "execution_count": 2,
   "metadata": {},
   "outputs": [],
   "source": [
    "sample_dataframe = pandas.DataFrame(\n",
    "    {\n",
    "        \"Day\": [\"Day 1\"]*6 + [\"Day 2\"]*6 + [\"Day 3\"]*6,\n",
    "        \"Temperature\": numpy.array(\n",
    "                [numpy.array([12, 17, 19, 22, 18, 16]) + numpy.random.randint(-4, 4, 6)\n",
    "                for _ in range(3)]\n",
    "            ).flatten()\n",
    "    }\n",
    ")"
   ]
  },
  {
   "cell_type": "markdown",
   "metadata": {},
   "source": [
    "To start with assumptions 1 - 4:\\\n",
    "The dependent variables are temperatures, which are continuous variables.\\\n",
    "We have three groups, three days, which are our independent variables.\\\n",
    "We can assume that temperature on one day is independent of temperature on the other days, there are nuances to this assumption but for this dataset it is sufficient - we will discuss independence more in module 3.\\\n",
    "From plotting the data we can investigate the outliers.\n",
    "\n",
    "To plot data we will use the built in plotting in pandas."
   ]
  },
  {
   "cell_type": "code",
   "execution_count": 3,
   "metadata": {},
   "outputs": [
    {
     "data": {
      "text/plain": [
       "<AxesSubplot:xlabel='Day', ylabel='Temperature'>"
      ]
     },
     "execution_count": 3,
     "metadata": {},
     "output_type": "execute_result"
    },
    {
     "data": {
      "image/png": "[encoded data removed]",
      "text/plain": [
       "<Figure size 432x288 with 1 Axes>"
      ]
     },
     "metadata": {
      "needs_background": "light"
     },
     "output_type": "display_data"
    }
   ],
   "source": [
    "sample_dataframe.plot(\"Day\", \"Temperature\", kind=\"scatter\")"
   ]
  },
  {
   "cell_type": "markdown",
   "metadata": {},
   "source": [
    "The format of the plot command is \"name of dataframe\".plot(\"variable to plot on x-axis\", \"variable to plot on y-axis\", kind=\"scatter\") in order to generate a scatter plot.\n",
    "\n",
    "For our data it is not clear if there are outliers due to the small number of datapoints we included, but from how we created the data it is safe to assume there will be no outliers.\n",
    "\n",
    "The final two assumptions are handled with statistical tests. The assumption of normality is tested with a Shapiro-Wilk test, and equal variance with a Levene test (as we showed in module 2 python functions 1).\n",
    "\n",
    "The Shapiro-Wilk test is also done using the stats module with the stats.shapiro function, but we will first have to separate our data as we did previously (compressed a little bit):"
   ]
  },
  {
   "cell_type": "code",
   "execution_count": 4,
   "metadata": {},
   "outputs": [
    {
     "data": {
      "text/html": [
       "<div>\n",
       "<style scoped>\n",
       "    .dataframe tbody tr th:only-of-type {\n",
       "        vertical-align: middle;\n",
       "    }\n",
       "\n",
       "    .dataframe tbody tr th {\n",
       "        vertical-align: top;\n",
       "    }\n",
       "\n",
       "    .dataframe thead th {\n",
       "        text-align: right;\n",
       "    }\n",
       "</style>\n",
       "<table border=\"1\" class=\"dataframe\">\n",
       "  <thead>\n",
       "    <tr style=\"text-align: right;\">\n",
       "      <th></th>\n",
       "      <th>Day 1</th>\n",
       "      <th>Day 2</th>\n",
       "      <th>Day 3</th>\n",
       "    </tr>\n",
       "  </thead>\n",
       "  <tbody>\n",
       "    <tr>\n",
       "      <th>0</th>\n",
       "      <td>13</td>\n",
       "      <td>12</td>\n",
       "      <td>9</td>\n",
       "    </tr>\n",
       "    <tr>\n",
       "      <th>1</th>\n",
       "      <td>18</td>\n",
       "      <td>15</td>\n",
       "      <td>18</td>\n",
       "    </tr>\n",
       "    <tr>\n",
       "      <th>2</th>\n",
       "      <td>15</td>\n",
       "      <td>16</td>\n",
       "      <td>15</td>\n",
       "    </tr>\n",
       "    <tr>\n",
       "      <th>3</th>\n",
       "      <td>23</td>\n",
       "      <td>23</td>\n",
       "      <td>20</td>\n",
       "    </tr>\n",
       "    <tr>\n",
       "      <th>4</th>\n",
       "      <td>16</td>\n",
       "      <td>15</td>\n",
       "      <td>17</td>\n",
       "    </tr>\n",
       "    <tr>\n",
       "      <th>5</th>\n",
       "      <td>13</td>\n",
       "      <td>17</td>\n",
       "      <td>13</td>\n",
       "    </tr>\n",
       "  </tbody>\n",
       "</table>\n",
       "</div>"
      ],
      "text/plain": [
       "   Day 1  Day 2  Day 3\n",
       "0     13     12      9\n",
       "1     18     15     18\n",
       "2     15     16     15\n",
       "3     23     23     20\n",
       "4     16     15     17\n",
       "5     13     17     13"
      ]
     },
     "execution_count": 4,
     "metadata": {},
     "output_type": "execute_result"
    }
   ],
   "source": [
    "dependent_variable_data = pandas.DataFrame(columns=[day for day in pandas.unique(sample_dataframe['Day'])])\n",
    "for day in pandas.unique(sample_dataframe['Day']):\n",
    "    dependent_variable_data[day] = sample_dataframe[\"Temperature\"][sample_dataframe[\"Day\"]==day].reset_index(drop=True)\n",
    "dependent_variable_data"
   ]
  },
  {
   "cell_type": "markdown",
   "metadata": {},
   "source": [
    "Now we can do the shapiro test for any, or all, of the columns, like we did the levene test before."
   ]
  },
  {
   "cell_type": "code",
   "execution_count": 5,
   "metadata": {},
   "outputs": [
    {
     "name": "stdout",
     "output_type": "stream",
     "text": [
      "Day 1 ShapiroResult(statistic=0.8796813488006592, pvalue=0.2675972282886505)\n",
      "Day 2 ShapiroResult(statistic=0.8856661915779114, pvalue=0.29609930515289307)\n",
      "Day 3 ShapiroResult(statistic=0.9681477546691895, pvalue=0.8797693252563477)\n"
     ]
    }
   ],
   "source": [
    "for day in dependent_variable_data.columns:\n",
    "    print(day, stats.shapiro(dependent_variable_data[day]))"
   ]
  },
  {
   "cell_type": "markdown",
   "metadata": {},
   "source": [
    "If the $p$ value is larger than our significance level we fail to reject the null hypothesis, which in this case was that the data is normally distributed.\n",
    "\n",
    "Just to remind you, we will do the same thing with the levene test:"
   ]
  },
  {
   "cell_type": "code",
   "execution_count": 6,
   "metadata": {},
   "outputs": [
    {
     "name": "stdout",
     "output_type": "stream",
     "text": [
      "Day 1 Day 2 LeveneResult(statistic=0.04651162790697665, pvalue=0.8335837296123851)\n",
      "Day 1 Day 3 LeveneResult(statistic=0.05665722379603402, pvalue=0.8166658343357364)\n",
      "Day 2 Day 3 LeveneResult(statistic=0.2056555269922878, pvalue=0.6598759564727147)\n"
     ]
    }
   ],
   "source": [
    "for day1, day2 in itertools.combinations(dependent_variable_data.columns,2):\n",
    "    print(day1, day2, stats.levene(dependent_variable_data[day1], dependent_variable_data[day2]))"
   ]
  },
  {
   "cell_type": "markdown",
   "metadata": {},
   "source": [
    "Now with all the assumptions checked we will do the ANOVA. We use the method, and notation, from the course book. The function in the code block below contains comments explaining some of the steps."
   ]
  },
  {
   "cell_type": "code",
   "execution_count": 7,
   "metadata": {},
   "outputs": [],
   "source": [
    "def ANOVA(dataset,independent,dependent,confidence = 0.95):\n",
    "    \"\"\" Calculates the ANOVA for a given dataset and prints an ANOVA table\n",
    "        and results of post hoc test if test was performed.\n",
    "\n",
    "    Args:  # 'arguments', or inputs to the function\n",
    "        dataset (pandas.DataFrame): The data\n",
    "        independent (string): The name of the independent column.\n",
    "        dependent (string): The name of the dependent column.\n",
    "        confidence (float): The desired confidence level for the ANOVA.\n",
    "\n",
    "    Returns:\n",
    "        None.\n",
    "    \"\"\"\n",
    "    groups = pandas.unique(dataset[independent])\n",
    "    k = len(groups)  # number of groups\n",
    "    n = len(dataset[dependent])  # number of dependent data points\n",
    "\n",
    "    # here we calculate the three degrees of freedom used in the ANOVA\n",
    "    DFbetween = k - 1\n",
    "    DFwithin = n - k\n",
    "    DFtotal = n - 1\n",
    "\n",
    "    # we use textbook notation:\n",
    "    # x_dd = sum over i and j x_ij\n",
    "    # x_id = sum over j x_ij\n",
    "    # x_dj = sum over i x_ij\n",
    "    # where i is the independent variable and j is the dependent variable\n",
    "\n",
    "    x_dd = sum(dataset[dependent])\n",
    "    CF = (x_dd**2)/n\n",
    "\n",
    "    SStotal = sum(x_ij**2 for x_ij in dataset[dependent]) - CF\n",
    "\n",
    "    SSbetween = 0\n",
    "    for i in groups:\n",
    "        group_data = dataset.loc[dataset[independent]==i]\n",
    "        n_i = len(group_data[dependent])\n",
    "        x_id = sum(group_data[dependent])\n",
    "        SSbetween += (x_id**2)/n_i\n",
    "\n",
    "    SSbetween = SSbetween - CF  # so^2 - s^2\n",
    "\n",
    "    SSwithin = SStotal - SSbetween\n",
    "\n",
    "    MSbetween = SSbetween/DFbetween\n",
    "    MSwithin = SSwithin/DFwithin\n",
    "\n",
    "    F = MSbetween/MSwithin\n",
    "    p = stats.f.sf(F, DFbetween, DFwithin)\n",
    "\n",
    "    print(tabulate([['Between', DFbetween, SSbetween, MSbetween, F],\n",
    "                    ['Within', DFwithin, SSwithin, MSwithin, ' '],\n",
    "                    ['Total', DFtotal, SStotal, ' ', ' ']],\n",
    "    headers=['Variation due to', 'DoF','Sum of squares','mean squares','F ratio']))\n",
    "    print('Significance (p value): '+str(p))\n",
    "    print('\\n')\n",
    "    alpha = 1-confidence\n",
    "    if p < alpha:\n",
    "        print(\"Reject null-hypothesis: There are statistical differences present.\")\n",
    "        print(pairwise_tukeyhsd(dataset[dependent], dataset[independent], alpha=alpha))\n",
    "    else:\n",
    "        print(\"Fail to reject the null-hypothesis: There are no statistical differences present at this level of significance.\")"
   ]
  },
  {
   "cell_type": "markdown",
   "metadata": {},
   "source": [
    "We call the ANOVA on our original dataset, not the one where we separated the dependent variable into groups based on the independent variable."
   ]
  },
  {
   "cell_type": "code",
   "execution_count": 8,
   "metadata": {},
   "outputs": [
    {
     "name": "stdout",
     "output_type": "stream",
     "text": [
      "Variation due to      DoF    Sum of squares  mean squares    F ratio\n",
      "------------------  -----  ----------------  --------------  ------------------\n",
      "Between                 2                 4  2.0             0.1388888888888889\n",
      "Within                 15               216  14.4\n",
      "Total                  17               220\n",
      "Significance (p value): 0.8714310444283517\n",
      "\n",
      "\n",
      "Fail to reject the null-hypothesis: There are no statistical differences present at this level of significance.\n"
     ]
    }
   ],
   "source": [
    "ANOVA(sample_dataframe, \"Day\", \"Temperature\", confidence=0.95)"
   ]
  }
 ],
 "metadata": {
  "kernelspec": {
   "display_name": "Python 3",
   "language": "python",
   "name": "python3"
  },
  "language_info": {
   "codemirror_mode": {
    "name": "ipython",
    "version": 3
   },
   "file_extension": ".py",
   "mimetype": "text/x-python",
   "name": "python",
   "nbconvert_exporter": "python",
   "pygments_lexer": "ipython3",
   "version": "3.6.10"
  }
 },
 "nbformat": 4,
 "nbformat_minor": 4
}
