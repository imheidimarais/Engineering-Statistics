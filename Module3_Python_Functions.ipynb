{
 "cells": [
  {
   "cell_type": "markdown",
   "metadata": {},
   "source": [
    "# Module 3\n",
    "\n",
    "In module 3 we look at correlation and regression. Here we provide some tools in Python that can help you with these tasks.\n",
    "\n",
    "We will begin by importing some of the libraries and modules we've used before, and some new ones."
   ]
  },
  {
   "cell_type": "code",
   "execution_count": 1,
   "metadata": {},
   "outputs": [],
   "source": [
    "import numpy\n",
    "from scipy import stats\n",
    "import pandas\n",
    "\n",
    "from sklearn.linear_model import LinearRegression\n",
    "from matplotlib import pyplot"
   ]
  },
  {
   "cell_type": "markdown",
   "metadata": {},
   "source": [
    "Sklearn, or scikit-learn ([sklearn documentation](https://scikit-learn.org/stable/index.html)) is a library with tools for predictive analysis and machine learning, and matplotlib ([matplotlib documentation](https://matplotlib.org/)) is a plotting library to help us visualise our data and results.\n",
    "\n",
    "Let's start with obtaining covariance. We can use numpy for this task, consider some x and y data"
   ]
  },
  {
   "cell_type": "code",
   "execution_count": 2,
   "metadata": {},
   "outputs": [],
   "source": [
    "x = [1.92, 1.94, -0.3, 0.0, 0.17, 1.084, -0.4, 0.41, 2.5, 1.47]\n",
    "y = [2.5, 1.82, -0.4, 0.57, 1.2, 1.22, 0.18, 0.22, 2.1, 2.2]"
   ]
  },
  {
   "cell_type": "markdown",
   "metadata": {},
   "source": [
    "we can put these into a numpy array (a matrix)"
   ]
  },
  {
   "cell_type": "code",
   "execution_count": 3,
   "metadata": {},
   "outputs": [
    {
     "data": {
      "text/plain": [
       "array([[1.08327916, 0.91884956],\n",
       "       [0.91884956, 0.98081   ]])"
      ]
     },
     "execution_count": 3,
     "metadata": {},
     "output_type": "execute_result"
    }
   ],
   "source": [
    "M = numpy.stack((x, y), axis=0)\n",
    "numpy.cov(M)"
   ]
  },
  {
   "cell_type": "markdown",
   "metadata": {},
   "source": [
    "what this covariance matrix shows us is \n",
    "$\\begin{bmatrix}\\text{Cov}(x,x) & \\text{Cov}(x,y)\\\\\\text{Cov}(y,x) & \\text{Cov}(y,y)\\end{bmatrix}$.\n",
    "\n",
    "We can plot our data and see if this covariance makes sense. \n",
    "The way we plot our data is with the following steps:\n",
    "1. Create a figure\n",
    "2. Add a set of axes to the figure\n",
    "3. Label the axes and format the graph\n",
    "4. Plot the data"
   ]
  },
  {
   "cell_type": "code",
   "execution_count": 4,
   "metadata": {},
   "outputs": [
    {
     "data": {
      "text/plain": [
       "<matplotlib.collections.PathCollection at 0x1eda121a348>"
      ]
     },
     "execution_count": 4,
     "metadata": {},
     "output_type": "execute_result"
    },
    {
     "data": {
      "image/png": "[encoded data removed]",
      "text/plain": [
       "<Figure size 432x288 with 1 Axes>"
      ]
     },
     "metadata": {
      "needs_background": "light"
     },
     "output_type": "display_data"
    }
   ],
   "source": [
    "fig = pyplot.figure()\n",
    "ax = fig.add_subplot()\n",
    "ax.tick_params(axis='both', direction='in')\n",
    "ax.set_xlabel('x')\n",
    "ax.set_ylabel('y')\n",
    "\n",
    "ax.scatter(x, y)"
   ]
  },
  {
   "cell_type": "markdown",
   "metadata": {},
   "source": [
    "We see a positive covariance in the scatter plot which is a good sign.\n",
    "\n",
    "The next thing to do is to calculate the correlation coefficient, we'll look primarily at the Pearson coefficient. We can do this with a function from the stats library called perasonr:"
   ]
  },
  {
   "cell_type": "code",
   "execution_count": 5,
   "metadata": {},
   "outputs": [
    {
     "name": "stdout",
     "output_type": "stream",
     "text": [
      "0.8914187685318501\n"
     ]
    }
   ],
   "source": [
    "r, _ = stats.pearsonr(x, y)\n",
    "print(r)"
   ]
  },
  {
   "cell_type": "markdown",
   "metadata": {},
   "source": [
    "This function returns the correlation coefficient and a $p$ value, but we will not worry about the $p$ value now. What you see printed above is the correlation coefficient for our data which shows a relatively high correlation.\n",
    "\n",
    "However, we did not check any of our assumptions before doing this. \n",
    "We can see from the data that it is qualitative/continuous, the scatter plot suggests a linear relationship, and we see no extreme outliers. So we only really need to test for normality, like we did in module 2, using the Shapiro-Wilk test."
   ]
  },
  {
   "cell_type": "code",
   "execution_count": 6,
   "metadata": {},
   "outputs": [
    {
     "name": "stdout",
     "output_type": "stream",
     "text": [
      "x:  ShapiroResult(statistic=0.9224238395690918, pvalue=0.3776152729988098)\n",
      "y:  ShapiroResult(statistic=0.943261981010437, pvalue=0.5898473858833313)\n"
     ]
    }
   ],
   "source": [
    "print(\"x: \", stats.shapiro(x))\n",
    "print(\"y: \", stats.shapiro(y))"
   ]
  },
  {
   "cell_type": "markdown",
   "metadata": {},
   "source": [
    "The Shapiro-Wilk test says we cannot reject the null-Hypothesis so our data probably comes from normally distributed populations.\n",
    "\n",
    "If we move on to regression now, we will use the sklearn LinearRegression class:"
   ]
  },
  {
   "cell_type": "code",
   "execution_count": 7,
   "metadata": {},
   "outputs": [],
   "source": [
    "regression = LinearRegression()"
   ]
  },
  {
   "cell_type": "markdown",
   "metadata": {},
   "source": [
    "The LinearRegression class expects the data given to it in a certain format. One valid format that requires the least explanation is passing both the independent and dependent variables as column vectors (the .reshape() function reorganises the data into as many rows as needed (the *-1* argument) and a single column (the *1* argument)."
   ]
  },
  {
   "cell_type": "code",
   "execution_count": 8,
   "metadata": {},
   "outputs": [],
   "source": [
    "x = numpy.array(x)\n",
    "x = x.reshape(-1, 1)\n",
    "y = numpy.array(y)\n",
    "y = y.reshape(-1,1)"
   ]
  },
  {
   "cell_type": "markdown",
   "metadata": {},
   "source": [
    "and now we can use the regression tool to fit a regression line to our data using least squares regression:"
   ]
  },
  {
   "cell_type": "code",
   "execution_count": 9,
   "metadata": {},
   "outputs": [
    {
     "name": "stdout",
     "output_type": "stream",
     "text": [
      "y = 0.4150830357423825 + 0.8482112397744115x\n"
     ]
    }
   ],
   "source": [
    "regression.fit(x, y)\n",
    "a = regression.intercept_[0]\n",
    "b = regression.coef_[0][0]\n",
    "print(f\"y = {a} + {b}x\")"
   ]
  },
  {
   "cell_type": "markdown",
   "metadata": {},
   "source": [
    "something about the line we obtained.\n",
    "\n",
    "We can now plot this line of best fit if desired."
   ]
  },
  {
   "cell_type": "code",
   "execution_count": 10,
   "metadata": {},
   "outputs": [],
   "source": [
    "y_estimated = a*x + b"
   ]
  },
  {
   "cell_type": "code",
   "execution_count": 11,
   "metadata": {},
   "outputs": [
    {
     "data": {
      "text/plain": [
       "[<matplotlib.lines.Line2D at 0x1eda127ed08>]"
      ]
     },
     "execution_count": 11,
     "metadata": {},
     "output_type": "execute_result"
    },
    {
     "data": {
      "image/png": "[encoded data removed]",
      "text/plain": [
       "<Figure size 432x288 with 1 Axes>"
      ]
     },
     "metadata": {
      "needs_background": "light"
     },
     "output_type": "display_data"
    }
   ],
   "source": [
    "fig = pyplot.figure()\n",
    "ax = fig.add_subplot()\n",
    "ax.tick_params(axis='both', direction='in')\n",
    "ax.set_xlabel('x')\n",
    "ax.set_ylabel('y')\n",
    "\n",
    "ax.scatter(x,y)\n",
    "ax.plot(x, y_estimated)"
   ]
  },
  {
   "cell_type": "markdown",
   "metadata": {},
   "source": [
    "How do we look at the residal analysis for the regresssion? "
   ]
  },
  {
   "cell_type": "code",
   "execution_count": 12,
   "metadata": {},
   "outputs": [
    {
     "data": {
      "text/plain": [
       "[<matplotlib.lines.Line2D at 0x1eda1275f08>]"
      ]
     },
     "execution_count": 12,
     "metadata": {},
     "output_type": "execute_result"
    },
    {
     "data": {
      "image/png": "[encoded data removed]",
      "text/plain": [
       "<Figure size 432x288 with 1 Axes>"
      ]
     },
     "metadata": {
      "needs_background": "light"
     },
     "output_type": "display_data"
    }
   ],
   "source": [
    "fig = pyplot.figure()\n",
    "ax = fig.add_subplot()\n",
    "ax.tick_params(axis='both', direction='in')\n",
    "ax.set_xlabel('x')\n",
    "ax.set_ylabel('residuals')\n",
    "\n",
    "ax.scatter(x, y-y_estimated)\n",
    "\n",
    "xaxis = numpy.zeros_like(x)  # make an array of 0s of the same shape as argument\n",
    "ax.plot(x, xaxis, ls='dotted', c='red')  # can style our plots too"
   ]
  },
  {
   "cell_type": "code",
   "execution_count": null,
   "metadata": {},
   "outputs": [],
   "source": []
  },
  {
   "cell_type": "code",
   "execution_count": null,
   "metadata": {},
   "outputs": [],
   "source": []
  }
 ],
 "metadata": {
  "kernelspec": {
   "display_name": "Python 3",
   "language": "python",
   "name": "python3"
  },
  "language_info": {
   "codemirror_mode": {
    "name": "ipython",
    "version": 3
   },
   "file_extension": ".py",
   "mimetype": "text/x-python",
   "name": "python",
   "nbconvert_exporter": "python",
   "pygments_lexer": "ipython3",
   "version": "3.7.4"
  }
 },
 "nbformat": 4,
 "nbformat_minor": 4
}
