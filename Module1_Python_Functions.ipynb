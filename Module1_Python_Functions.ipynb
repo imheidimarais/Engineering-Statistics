{
  "nbformat": 4,
  "nbformat_minor": 0,
  "metadata": {
    "kernelspec": {
      "display_name": "Python 3",
      "language": "python",
      "name": "python3"
    },
    "language_info": {
      "codemirror_mode": {
        "name": "ipython",
        "version": 3
      },
      "file_extension": ".py",
      "mimetype": "text/x-python",
      "name": "python",
      "nbconvert_exporter": "python",
      "pygments_lexer": "ipython3",
      "version": "3.7.4-final"
    },
    "colab": {
      "name": "Module1_Python_Functions.ipynb",
      "provenance": [],
      "toc_visible": true
    }
  },
  "cells": [
    {
      "cell_type": "markdown",
      "metadata": {
        "id": "cVVfuonj5ss1"
      },
      "source": [
        "# Module 1 Tutorial"
      ]
    },
    {
      "cell_type": "markdown",
      "metadata": {
        "id": "tcRfjhUvmYYd"
      },
      "source": [
        "There are numerous open-source libraries, collections of functions, that have been developed in Python that we will make use of in this course.\n",
        "\n",
        "The first one is called NumPy and you can find the documentation [here](https://numpy.org/). It is one of the most widely-used libraries for scientific computating in python. The second library we will use will be a module from Scipy, called scipy.stats ([scipy.stats documentation](https://docs.scipy.org/doc/scipy/reference/stats.html)), and the third is a library for handling database-like structures called Pandas for which you can find the documentation at this link: [Pandas documentation](https://pandas.pydata.org/docs/user_guide/index.html).\n",
        "\n",
        "We import the libraries with the following statement:"
      ]
    },
    {
      "cell_type": "code",
      "metadata": {
        "id": "gsBDduRKmYYe"
      },
      "source": [
        "import numpy\n",
        "from scipy import stats\n",
        "import pandas"
      ],
      "execution_count": 1,
      "outputs": []
    },
    {
      "cell_type": "markdown",
      "metadata": {
        "id": "NtH-X83P4tSF"
      },
      "source": [
        "Now we will start building our toolbox with some simple tools to describe our data: "
      ]
    },
    {
      "cell_type": "markdown",
      "metadata": {
        "id": "hcJRE3momYYh"
      },
      "source": [
        "## Confidence Intervals and Descriptive Statistics\n",
        "\n",
        "In module 1 of the course the first thing that is covered is confidence intervals. As we only have access to samples of data we assume that neither the population mean or the population standard deviation are known and we work with point estimates, sample mean, and sample standard deviation (also called standard error).\n",
        "\n",
        "To build a confidence interval we must specify a confidence level and provide the sample of our data. \n",
        "\n",
        "Below is a simple function to obtain the confidence interval of your sample."
      ]
    },
    {
      "cell_type": "code",
      "metadata": {
        "id": "nN9v_olbmYYi"
      },
      "source": [
        "def get_confidence_interval(data, confidence=0.95):\n",
        "    \"\"\" Determines the confidence interval for a given set of data, \n",
        "        assuming the population standard deviation is not known.\n",
        "\n",
        "    Args:  # 'arguments', or inputs to the function\n",
        "        data (single-column or list): The data\n",
        "        confidence (float): The confidence level on which to produce the interval.\n",
        "\n",
        "    Returns:\n",
        "        c_interval (tuple): The confidence interval on the given data (lower, upper).\n",
        "    \"\"\"\n",
        "\n",
        "    n = len(data)  # determines the sample size\n",
        "    m = numpy.mean(data)  # obtains mean of the sample\n",
        "\n",
        "    se = stats.sem(data)  # obtains standard error of the sample\n",
        "\n",
        "    c_interval = stats.t.interval(confidence, n-1, m, se)  # determines the confidence interval\n",
        "    return c_interval  # which is of the form (lower bound, upper bound)"
      ],
      "execution_count": 2,
      "outputs": []
    },
    {
      "cell_type": "markdown",
      "metadata": {
        "id": "Nn7FsHfnmYYk"
      },
      "source": [
        "We can walk through the function above:\n",
        "The name of the function is *get_confidence_interval* and the function takes two arguments, the first is the sample that you are interested in calculating the confidence interval for, and the second is the desired confidence level. The second argument is optional and will default to 95% if not specified. 95% is a very typical confidence level used in most applications.\n",
        "\n",
        "Inside the function we first obtain *n*, the sample size. Then we calculate the sample mean using the numpy.mean function ([numpy.mean documentation](https://numpy.org/doc/stable/reference/generated/numpy.mean.html)), and the sample standard error with the scipy.stats.sem function ([scipy.stats.mean documentation](https://docs.scipy.org/doc/scipy/reference/generated/scipy.stats.sem.html)). \n",
        "Finally, we calculate the confidence interval using the scipy.stats.t.interval function ([scipy.stats.t documentation](https://docs.scipy.org/doc/scipy/reference/generated/scipy.stats.t.html)), this function needs the desired confidence level, the degrees of freedom, the sample mean, and the standard error, in order to calculate the upper and lower bounds of the confidence interval."
      ]
    },
    {
      "cell_type": "markdown",
      "metadata": {
        "id": "711JDALdmYYl"
      },
      "source": [
        "Let us illustrate this function with Example 12.6 from the course book: in this example both $\\mu$ and $\\sigma$, the population parameters are unknown. The sample data is given as {1, 0, 5} and the question asks for the 99% confidence interval for $\\mu$ assuming a normally distributed population.\n",
        "\n",
        "This is easily calculated using the function we defined above:"
      ]
    },
    {
      "cell_type": "code",
      "metadata": {
        "id": "fVT0gpkPmYYn",
        "outputId": "27bab624-d47d-49ca-a20c-9a3df247a4f3",
        "colab": {
          "base_uri": "https://localhost:8080/",
          "height": 34
        }
      },
      "source": [
        "sample_data = [1, 0, 5]\n",
        "get_confidence_interval(sample_data, confidence=0.99)"
      ],
      "execution_count": 3,
      "outputs": [
        {
          "output_type": "execute_result",
          "data": {
            "text/plain": [
              "(-13.160448409591625, 17.160448409591623)"
            ]
          },
          "metadata": {},
          "execution_count": 3
        }
      ]
    },
    {
      "cell_type": "markdown",
      "metadata": {
        "id": "qyGQw-shm4GL"
      },
      "source": [
        "Another tool that could be useful in order to help us understand our data is provided by the pandas library. The .describe() function produces a statistical description of our sample. In order to call this function however our data needs to be in a pandas.Series or pandas.DataFrame object.\n",
        "\n",
        "Let's say we have some data stored in two columns labeled \"Time\" and \"Temperature\":"
      ]
    },
    {
      "cell_type": "code",
      "metadata": {
        "id": "J3KDCC7RrUXR",
        "outputId": "63af8224-cf4a-46e9-d660-5421fa3465ae",
        "colab": {
          "base_uri": "https://localhost:8080/",
          "height": 254
        }
      },
      "source": [
        "sample_dataframe = pandas.DataFrame(\n",
        "    {\n",
        "        \"Time\": [8, 10, 12, 14, 16, 18, 20],\n",
        "        \"Temperature\": [14, 15, 17, 19, 19, 18, 16]\n",
        "    }\n",
        ")"
      ],
      "execution_count": 4,
      "outputs": []
    },
    {
      "source": [
        "The DataFrame looks like this:"
      ],
      "cell_type": "markdown",
      "metadata": {}
    },
    {
      "cell_type": "code",
      "execution_count": 5,
      "metadata": {},
      "outputs": [
        {
          "output_type": "execute_result",
          "data": {
            "text/plain": [
              "   Time  Temperature\n",
              "0     8           14\n",
              "1    10           15\n",
              "2    12           17\n",
              "3    14           19\n",
              "4    16           19\n",
              "5    18           18\n",
              "6    20           16"
            ],
            "text/html": "<div>\n<style scoped>\n    .dataframe tbody tr th:only-of-type {\n        vertical-align: middle;\n    }\n\n    .dataframe tbody tr th {\n        vertical-align: top;\n    }\n\n    .dataframe thead th {\n        text-align: right;\n    }\n</style>\n<table border=\"1\" class=\"dataframe\">\n  <thead>\n    <tr style=\"text-align: right;\">\n      <th></th>\n      <th>Time</th>\n      <th>Temperature</th>\n    </tr>\n  </thead>\n  <tbody>\n    <tr>\n      <th>0</th>\n      <td>8</td>\n      <td>14</td>\n    </tr>\n    <tr>\n      <th>1</th>\n      <td>10</td>\n      <td>15</td>\n    </tr>\n    <tr>\n      <th>2</th>\n      <td>12</td>\n      <td>17</td>\n    </tr>\n    <tr>\n      <th>3</th>\n      <td>14</td>\n      <td>19</td>\n    </tr>\n    <tr>\n      <th>4</th>\n      <td>16</td>\n      <td>19</td>\n    </tr>\n    <tr>\n      <th>5</th>\n      <td>18</td>\n      <td>18</td>\n    </tr>\n    <tr>\n      <th>6</th>\n      <td>20</td>\n      <td>16</td>\n    </tr>\n  </tbody>\n</table>\n</div>"
          },
          "metadata": {},
          "execution_count": 5
        }
      ],
      "source": [
        "sample_dataframe"
      ]
    },
    {
      "cell_type": "markdown",
      "metadata": {
        "id": "S36l28YNswFO"
      },
      "source": [
        "We can now request a statistical description of each column from our dataset, usually the dependent variable is most useful:"
      ]
    },
    {
      "cell_type": "code",
      "metadata": {
        "id": "iamwaiZdrT1Q",
        "outputId": "78f04a29-c11d-43cf-d1d4-4233877df70b",
        "colab": {
          "base_uri": "https://localhost:8080/",
          "height": 168
        }
      },
      "source": [
        "sample_statistics = sample_dataframe.describe()\n",
        "sample_statistics"
      ],
      "execution_count": 6,
      "outputs": [
        {
          "output_type": "execute_result",
          "data": {
            "text/plain": [
              "            Time  Temperature\n",
              "count   7.000000     7.000000\n",
              "mean   14.000000    16.857143\n",
              "std     4.320494     1.951800\n",
              "min     8.000000    14.000000\n",
              "25%    11.000000    15.500000\n",
              "50%    14.000000    17.000000\n",
              "75%    17.000000    18.500000\n",
              "max    20.000000    19.000000"
            ],
            "text/html": "<div>\n<style scoped>\n    .dataframe tbody tr th:only-of-type {\n        vertical-align: middle;\n    }\n\n    .dataframe tbody tr th {\n        vertical-align: top;\n    }\n\n    .dataframe thead th {\n        text-align: right;\n    }\n</style>\n<table border=\"1\" class=\"dataframe\">\n  <thead>\n    <tr style=\"text-align: right;\">\n      <th></th>\n      <th>Time</th>\n      <th>Temperature</th>\n    </tr>\n  </thead>\n  <tbody>\n    <tr>\n      <th>count</th>\n      <td>7.000000</td>\n      <td>7.000000</td>\n    </tr>\n    <tr>\n      <th>mean</th>\n      <td>14.000000</td>\n      <td>16.857143</td>\n    </tr>\n    <tr>\n      <th>std</th>\n      <td>4.320494</td>\n      <td>1.951800</td>\n    </tr>\n    <tr>\n      <th>min</th>\n      <td>8.000000</td>\n      <td>14.000000</td>\n    </tr>\n    <tr>\n      <th>25%</th>\n      <td>11.000000</td>\n      <td>15.500000</td>\n    </tr>\n    <tr>\n      <th>50%</th>\n      <td>14.000000</td>\n      <td>17.000000</td>\n    </tr>\n    <tr>\n      <th>75%</th>\n      <td>17.000000</td>\n      <td>18.500000</td>\n    </tr>\n    <tr>\n      <th>max</th>\n      <td>20.000000</td>\n      <td>19.000000</td>\n    </tr>\n  </tbody>\n</table>\n</div>"
          },
          "metadata": {},
          "execution_count": 6
        }
      ]
    },
    {
      "cell_type": "markdown",
      "metadata": {
        "id": "xERrrAlotO8d"
      },
      "source": [
        "And what we see returned is the sample size, the mean of our sample, the standard deviation (which is not of great use, can you explain why?), the minumum, maximum, and different percentiles. We can access the different information from each column by name or by index:"
      ]
    },
    {
      "cell_type": "code",
      "metadata": {
        "id": "2zfc_ts-tgUB",
        "outputId": "153b25ae-48a9-432d-8c3c-ef0ed2c7d21b",
        "colab": {
          "base_uri": "https://localhost:8080/",
          "height": 50
        }
      },
      "source": [
        "print(sample_statistics[\"Time\"][\"mean\"])\n",
        "print(sample_statistics[\"Time\"][1])"
      ],
      "execution_count": 7,
      "outputs": [
        {
          "output_type": "stream",
          "name": "stdout",
          "text": [
            "14.0\n14.0\n"
          ]
        }
      ]
    },
    {
      "cell_type": "markdown",
      "metadata": {
        "id": "HsRCPt2Zv6CL"
      },
      "source": [
        "We can now move on to the next part of module 1.\n",
        "\n"
      ]
    },
    {
      "cell_type": "markdown",
      "metadata": {
        "id": "O0xF23Ii4YAQ"
      },
      "source": [
        "## Hypothesis Testing\n",
        "Let's start by constructing a set of sample data to test our functions with. We will use the time and temperature data from before and simply add another day to the data."
      ]
    },
    {
      "cell_type": "code",
      "metadata": {
        "id": "WmZSaMScwDqJ",
        "outputId": "ac77e473-8a5d-4b9d-8c1e-3badb7e76677",
        "colab": {
          "base_uri": "https://localhost:8080/",
          "height": 254
        }
      },
      "source": [
        "column1 = pandas.Series([8, 10, 12, 14, 16, 18, 20])\n",
        "column2 = pandas.Series([14, 15, 17, 19, 19, 18, 16])\n",
        "column3 = pandas.Series([15, 15, 18, 19, 21, 20, 18])\n",
        "sample_dataframe = pandas.DataFrame({\"Time\": column1, \"Temperature Day 1\": column2, \"Temperature Day 2\": column3})\n",
        "sample_dataframe"
      ],
      "execution_count": 8,
      "outputs": [
        {
          "output_type": "execute_result",
          "data": {
            "text/plain": [
              "   Time  Temperature Day 1  Temperature Day 2\n",
              "0     8                 14                 15\n",
              "1    10                 15                 15\n",
              "2    12                 17                 18\n",
              "3    14                 19                 19\n",
              "4    16                 19                 21\n",
              "5    18                 18                 20\n",
              "6    20                 16                 18"
            ],
            "text/html": "<div>\n<style scoped>\n    .dataframe tbody tr th:only-of-type {\n        vertical-align: middle;\n    }\n\n    .dataframe tbody tr th {\n        vertical-align: top;\n    }\n\n    .dataframe thead th {\n        text-align: right;\n    }\n</style>\n<table border=\"1\" class=\"dataframe\">\n  <thead>\n    <tr style=\"text-align: right;\">\n      <th></th>\n      <th>Time</th>\n      <th>Temperature Day 1</th>\n      <th>Temperature Day 2</th>\n    </tr>\n  </thead>\n  <tbody>\n    <tr>\n      <th>0</th>\n      <td>8</td>\n      <td>14</td>\n      <td>15</td>\n    </tr>\n    <tr>\n      <th>1</th>\n      <td>10</td>\n      <td>15</td>\n      <td>15</td>\n    </tr>\n    <tr>\n      <th>2</th>\n      <td>12</td>\n      <td>17</td>\n      <td>18</td>\n    </tr>\n    <tr>\n      <th>3</th>\n      <td>14</td>\n      <td>19</td>\n      <td>19</td>\n    </tr>\n    <tr>\n      <th>4</th>\n      <td>16</td>\n      <td>19</td>\n      <td>21</td>\n    </tr>\n    <tr>\n      <th>5</th>\n      <td>18</td>\n      <td>18</td>\n      <td>20</td>\n    </tr>\n    <tr>\n      <th>6</th>\n      <td>20</td>\n      <td>16</td>\n      <td>18</td>\n    </tr>\n  </tbody>\n</table>\n</div>"
          },
          "metadata": {},
          "execution_count": 8
        }
      ]
    },
    {
      "cell_type": "markdown",
      "metadata": {
        "id": "8VGf3bMjw06b"
      },
      "source": [
        "The question could be, is the mean temperature of the two days statistically different? We can write this as a hypothesis test:\n",
        "\n",
        "$H_0 : \\mu_1 - \\mu_2 = 0$\\\n",
        "$H_1 : \\mu_1 - \\mu_2 \\neq 0$\n",
        "\n",
        "The independent samples t-test can be used to test this hypothesis. But, an underlying assumption of the independent samples t-test is that the two populations being compared have equal variances. \n",
        "\n",
        "The test for equal variance can be written as another hypothesis test and is commonly called the Levene test:\n",
        "\n",
        "$H_0 : \\sigma^2_1 - \\sigma^2_2 = 0$\\\n",
        "$H_1 : \\sigma^2_1 - \\sigma^2_2 \\neq 0$\n",
        "\n",
        "So let's add to our toolbox again:"
      ]
    },
    {
      "cell_type": "code",
      "metadata": {
        "id": "fXM9epdIwgcd"
      },
      "source": [
        "def Levene_Test(data_group1, data_group2):\n",
        "    Levene_result = stats.levene(data_group1, data_group2)\n",
        "    return Levene_result"
      ],
      "execution_count": 9,
      "outputs": []
    },
    {
      "cell_type": "markdown",
      "metadata": {
        "id": "036E4TPLyxNT"
      },
      "source": [
        "The Levene test takes the data from each sample group and returns an $F$ and $p$ value. Depending on your desired confidence level, you can then accept or reject the Levene test."
      ]
    },
    {
      "cell_type": "code",
      "metadata": {
        "id": "pP73UTu6ywDm",
        "outputId": "50d347e7-fe32-4421-a621-1b76658c4a4f",
        "colab": {
          "base_uri": "https://localhost:8080/",
          "height": 34
        }
      },
      "source": [
        "Levene_Test(sample_dataframe[\"Temperature Day 1\"], sample_dataframe[\"Temperature Day 2\"])"
      ],
      "execution_count": 10,
      "outputs": [
        {
          "output_type": "execute_result",
          "data": {
            "text/plain": [
              "LeveneResult(statistic=0.04999999999999995, pvalue=0.8268247157865076)"
            ]
          },
          "metadata": {},
          "execution_count": 10
        }
      ]
    },
    {
      "cell_type": "markdown",
      "metadata": {
        "id": "N2Za3G8QzYdT"
      },
      "source": [
        "If our confidence limit, $\\alpha$, is 0.05 (a common value), we can observe that in this case the $p$ value is larger than $\\alpha$ and so we can accept the null hypothesis and state that statistically the two samples have equal variance.\n",
        "\n",
        "We now want to adress the question of equal means. Let's add the t-test to our toolbox:"
      ]
    },
    {
      "cell_type": "code",
      "metadata": {
        "id": "KMEn4-p3zN38"
      },
      "source": [
        "def t_test(data_group1, data_group2, confidence=0.95):\n",
        "    alpha = 1-confidence\n",
        "\n",
        "    if Levene_Test(data_group1, data_group2)[1]>alpha:\n",
        "        equal_variance = True\n",
        "    else:\n",
        "        equal_variance = False\n",
        "\n",
        "    t, p = stats.ttest_ind(data_group1, data_group2, equal_var = equal_variance)\n",
        "\n",
        "    accept_H0 = \"False\"\n",
        "    if p>alpha:\n",
        "        accept_H0 = \"True\"\n",
        "\n",
        "    return(t, p, accept_H0)"
      ],
      "execution_count": 11,
      "outputs": []
    },
    {
      "cell_type": "markdown",
      "metadata": {
        "id": "2LwORbKky1aF"
      },
      "source": [
        "Our function to perform the $t$-test is called \"t-test\" and it takes three possible inputs:\n",
        "1. The data of the first column (or group) that would correspond to $\\mu_1$ in the hypothesis test, \\\\\n",
        "2. The data of the second column (or group) that would correspond to $\\mu_2$ in the hypothesis test, and finally, \\\\\n",
        "3. The desired confidence level, this will default to 95% if not specified.\n",
        "\n",
        "Inside the function, the confidence level is used to determine the $\\alpha$ value which is the significance level for the $t$-test.\\\n",
        "Then, the Levene test (which we discussed previously) is run to determine if the two groups have equal variance or not. This is done because the function that performs the $t$-test, [scipy.stats.ttest_ind](https://docs.scipy.org/doc/scipy/reference/generated/scipy.stats.ttest_ind.html) (written \"stats.ttest_ind\" in our code), needs this as an input; it modifies the calculations based on whether or not the two groups have equal variance.\n",
        "\n",
        "So, after the Levene test we calculate the $t$ value and $p$ value of the $t$-test. The inputs to \"stats.ttest_ind\" are the data for the first group, the data for the second group, and the results of the Levene test.\n",
        "\n",
        "Finally, we check if $p$ is larger than our desired significance level.\n",
        "\n",
        "Let us illustrate this for our previous temperature dataset:"
      ]
    },
    {
      "cell_type": "code",
      "metadata": {
        "id": "7ktpDZUA0LNn",
        "outputId": "284e8bff-ff95-44cd-e42a-48ba24ec5409",
        "colab": {
          "base_uri": "https://localhost:8080/",
          "height": 34
        }
      },
      "source": [
        "t_test(sample_dataframe[\"Temperature Day 1\"],sample_dataframe[\"Temperature Day 2\"],confidence=0.95)"
      ],
      "execution_count": 12,
      "outputs": [
        {
          "output_type": "execute_result",
          "data": {
            "text/plain": [
              "(-0.9999999999999994, 0.33704905795358453, 'True')"
            ]
          },
          "metadata": {},
          "execution_count": 12
        }
      ]
    },
    {
      "cell_type": "markdown",
      "metadata": {
        "id": "1Zp6ec1w3UR7"
      },
      "source": [
        "The outputs from our function are the $t$ value, the $p$ value, and whether or not we accept the null-hypothesis."
      ]
    },
    {
      "cell_type": "code",
      "metadata": {
        "id": "ceQirW-oEgl3"
      },
      "source": [
        ""
      ],
      "execution_count": null,
      "outputs": []
    }
  ]
}