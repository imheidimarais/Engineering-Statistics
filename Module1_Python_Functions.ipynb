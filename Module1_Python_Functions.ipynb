{
 "cells": [
  {
   "cell_type": "markdown",
   "metadata": {
    "id": "cVVfuonj5ss1"
   },
   "source": [
    "# Module 1 Tutorial"
   ]
  },
  {
   "cell_type": "markdown",
   "metadata": {
    "id": "tcRfjhUvmYYd"
   },
   "source": [
    "There are numerous open-source libraries, collections of functions, that have been developed in Python that we will make use of in this course.\n",
    "\n",
    "The first one is called NumPy and you can find the documentation [here](https://numpy.org/). It is one of the most widely-used libraries for scientific computating in python. The second library we will use will be a module from Scipy, called scipy.stats ([scipy.stats documentation](https://docs.scipy.org/doc/scipy/reference/stats.html)), and the third is a library for handling database-like structures called Pandas for which you can find the documentation at this link: [Pandas documentation](https://pandas.pydata.org/docs/user_guide/index.html).\n",
    "\n",
    "We import the libraries with the following statement:"
   ]
  },
  {
   "cell_type": "code",
   "execution_count": 1,
   "metadata": {
    "id": "gsBDduRKmYYe"
   },
   "outputs": [],
   "source": [
    "import numpy\n",
    "from scipy import stats\n",
    "import pandas"
   ]
  },
  {
   "cell_type": "markdown",
   "metadata": {
    "id": "NtH-X83P4tSF"
   },
   "source": [
    "Now we will start building our toolbox with some simple tools to describe our data: "
   ]
  },
  {
   "cell_type": "markdown",
   "metadata": {
    "id": "hcJRE3momYYh"
   },
   "source": [
    "## Confidence Intervals and Descriptive Statistics\n",
    "\n",
    "In module 1 of the course the first thing that is covered is confidence intervals. As we only have access to samples of data we assume that neither the population mean or the population standard deviation are known and we work with point estimates, sample mean, and sample standard deviation (also called standard error).\n",
    "\n",
    "To build a confidence interval we must specify a confidence level and provide the sample of our data. \n",
    "\n",
    "Below is a simple function to obtain the confidence interval of your sample."
   ]
  },
  {
   "cell_type": "code",
   "execution_count": 2,
   "metadata": {
    "id": "nN9v_olbmYYi"
   },
   "outputs": [],
   "source": [
    "def get_confidence_interval(data, confidence=0.95):\n",
    "    \"\"\" Determines the confidence interval for a given set of data, \n",
    "        assuming the population standard deviation is not known.\n",
    "\n",
    "    Args:  # 'arguments', or inputs to the function\n",
    "        data (single-column or list): The data\n",
    "        confidence (float): The confidence level on which to produce the interval.\n",
    "\n",
    "    Returns:\n",
    "        c_interval (tuple): The confidence interval on the given data (lower, upper).\n",
    "    \"\"\"\n",
    "\n",
    "    n = len(data)  # determines the sample size\n",
    "    m = numpy.mean(data)  # obtains mean of the sample\n",
    "\n",
    "    se = stats.sem(data)  # obtains standard error of the sample\n",
    "\n",
    "    c_interval = stats.t.interval(confidence, n-1, m, se)  # determines the confidence interval\n",
    "    return c_interval  # which is of the form (lower bound, upper bound)"
   ]
  },
  {
   "cell_type": "markdown",
   "metadata": {
    "id": "Nn7FsHfnmYYk"
   },
   "source": [
    "We can walk through the function above:\n",
    "The name of the function is *get_confidence_interval* and the function takes two arguments, the first is the sample that you are interested in calculating the confidence interval for, and the second is the desired confidence level. The second argument is optional and will default to 95% if not specified. 95% is a very typical confidence level used in most applications.\n",
    "\n",
    "Inside the function we first obtain *n*, the sample size. Then we calculate the sample mean using the numpy.mean function ([numpy.mean documentation](https://numpy.org/doc/stable/reference/generated/numpy.mean.html)), and the sample standard error with the scipy.stats.sem function ([scipy.stats.mean documentation](https://docs.scipy.org/doc/scipy/reference/generated/scipy.stats.sem.html)). \n",
    "Finally, we calculate the confidence interval using the scipy.stats.t.interval function ([scipy.stats.t documentation](https://docs.scipy.org/doc/scipy/reference/generated/scipy.stats.t.html)), this function needs the desired confidence level, the degrees of freedom, the sample mean, and the standard error, in order to calculate the upper and lower bounds of the confidence interval."
   ]
  },
  {
   "cell_type": "markdown",
   "metadata": {
    "id": "711JDALdmYYl"
   },
   "source": [
    "Let us illustrate this function with Example 12.6 from the course book: in this example both $\\mu$ and $\\sigma$, the population parameters are unknown. The sample data is given as {1, 0, 5} and the question asks for the 99% confidence interval for $\\mu$ assuming a normally distributed population.\n",
    "\n",
    "This is easily calculated using the function we defined above:"
   ]
  },
  {
   "cell_type": "code",
   "execution_count": 3,
   "metadata": {
    "colab": {
     "base_uri": "https://localhost:8080/",
     "height": 34
    },
    "id": "fVT0gpkPmYYn",
    "outputId": "27bab624-d47d-49ca-a20c-9a3df247a4f3"
   },
   "outputs": [
    {
     "data": {
      "text/plain": [
       "(-13.160448409591625, 17.160448409591623)"
      ]
     },
     "execution_count": 3,
     "metadata": {},
     "output_type": "execute_result"
    }
   ],
   "source": [
    "sample_data = [1, 0, 5]\n",
    "get_confidence_interval(sample_data, confidence=0.99)"
   ]
  },
  {
   "cell_type": "markdown",
   "metadata": {
    "id": "qyGQw-shm4GL"
   },
   "source": [
    "Another tool that could be useful in order to help us understand our data is provided by the pandas library. The .describe() function produces a statistical description of our sample. In order to call this function however our data needs to be in a pandas.Series or pandas.DataFrame object, and we need a column for each group we want to describe.\n",
    "\n",
    "Let's say we have some data stored in two columns labeled \"Day\" and \"Temperature\", which contains the temperature readings at 6 set times over the course of two different days:"
   ]
  },
  {
   "cell_type": "code",
   "execution_count": 4,
   "metadata": {
    "colab": {
     "base_uri": "https://localhost:8080/",
     "height": 254
    },
    "id": "J3KDCC7RrUXR",
    "outputId": "63af8224-cf4a-46e9-d660-5421fa3465ae"
   },
   "outputs": [],
   "source": [
    "sample_dataframe = pandas.DataFrame(\n",
    "    {\n",
    "        \"Day\": [\"Day 1\"]*6 + [\"Day 2\"]*6,\n",
    "        \"Temperature\": [15, 17, 19, 19, 18, 16, 14, 15, 18, 19, 21, 18]\n",
    "    }\n",
    ")"
   ]
  },
  {
   "cell_type": "markdown",
   "metadata": {},
   "source": [
    "The DataFrame looks like this:"
   ]
  },
  {
   "cell_type": "code",
   "execution_count": 5,
   "metadata": {},
   "outputs": [
    {
     "data": {
      "text/html": [
       "<div>\n",
       "<style scoped>\n",
       "    .dataframe tbody tr th:only-of-type {\n",
       "        vertical-align: middle;\n",
       "    }\n",
       "\n",
       "    .dataframe tbody tr th {\n",
       "        vertical-align: top;\n",
       "    }\n",
       "\n",
       "    .dataframe thead th {\n",
       "        text-align: right;\n",
       "    }\n",
       "</style>\n",
       "<table border=\"1\" class=\"dataframe\">\n",
       "  <thead>\n",
       "    <tr style=\"text-align: right;\">\n",
       "      <th></th>\n",
       "      <th>Day</th>\n",
       "      <th>Temperature</th>\n",
       "    </tr>\n",
       "  </thead>\n",
       "  <tbody>\n",
       "    <tr>\n",
       "      <th>0</th>\n",
       "      <td>Day 1</td>\n",
       "      <td>15</td>\n",
       "    </tr>\n",
       "    <tr>\n",
       "      <th>1</th>\n",
       "      <td>Day 1</td>\n",
       "      <td>17</td>\n",
       "    </tr>\n",
       "    <tr>\n",
       "      <th>2</th>\n",
       "      <td>Day 1</td>\n",
       "      <td>19</td>\n",
       "    </tr>\n",
       "    <tr>\n",
       "      <th>3</th>\n",
       "      <td>Day 1</td>\n",
       "      <td>19</td>\n",
       "    </tr>\n",
       "    <tr>\n",
       "      <th>4</th>\n",
       "      <td>Day 1</td>\n",
       "      <td>18</td>\n",
       "    </tr>\n",
       "    <tr>\n",
       "      <th>5</th>\n",
       "      <td>Day 1</td>\n",
       "      <td>16</td>\n",
       "    </tr>\n",
       "    <tr>\n",
       "      <th>6</th>\n",
       "      <td>Day 2</td>\n",
       "      <td>14</td>\n",
       "    </tr>\n",
       "    <tr>\n",
       "      <th>7</th>\n",
       "      <td>Day 2</td>\n",
       "      <td>15</td>\n",
       "    </tr>\n",
       "    <tr>\n",
       "      <th>8</th>\n",
       "      <td>Day 2</td>\n",
       "      <td>18</td>\n",
       "    </tr>\n",
       "    <tr>\n",
       "      <th>9</th>\n",
       "      <td>Day 2</td>\n",
       "      <td>19</td>\n",
       "    </tr>\n",
       "    <tr>\n",
       "      <th>10</th>\n",
       "      <td>Day 2</td>\n",
       "      <td>21</td>\n",
       "    </tr>\n",
       "    <tr>\n",
       "      <th>11</th>\n",
       "      <td>Day 2</td>\n",
       "      <td>18</td>\n",
       "    </tr>\n",
       "  </tbody>\n",
       "</table>\n",
       "</div>"
      ],
      "text/plain": [
       "      Day  Temperature\n",
       "0   Day 1           15\n",
       "1   Day 1           17\n",
       "2   Day 1           19\n",
       "3   Day 1           19\n",
       "4   Day 1           18\n",
       "5   Day 1           16\n",
       "6   Day 2           14\n",
       "7   Day 2           15\n",
       "8   Day 2           18\n",
       "9   Day 2           19\n",
       "10  Day 2           21\n",
       "11  Day 2           18"
      ]
     },
     "execution_count": 5,
     "metadata": {},
     "output_type": "execute_result"
    }
   ],
   "source": [
    "sample_dataframe"
   ]
  },
  {
   "cell_type": "markdown",
   "metadata": {},
   "source": [
    "Now, because we created the DataFrame we know what is in it. But if we didn't, we could ask what the columns are:"
   ]
  },
  {
   "cell_type": "code",
   "execution_count": 6,
   "metadata": {},
   "outputs": [
    {
     "data": {
      "text/plain": [
       "Index(['Day', 'Temperature'], dtype='object')"
      ]
     },
     "execution_count": 6,
     "metadata": {},
     "output_type": "execute_result"
    }
   ],
   "source": [
    "column_names = sample_dataframe.columns\n",
    "column_names"
   ]
  },
  {
   "cell_type": "markdown",
   "metadata": {},
   "source": [
    "We can assign these column names as either independent or dependent to help us keep track of what we're doing:"
   ]
  },
  {
   "cell_type": "code",
   "execution_count": 7,
   "metadata": {},
   "outputs": [],
   "source": [
    "independent_col = column_names[0]\n",
    "dependent_col = column_names[1]"
   ]
  },
  {
   "cell_type": "markdown",
   "metadata": {},
   "source": [
    "And we can also see how many values our independent variable takes and what they are by using the pandas.unique function:"
   ]
  },
  {
   "cell_type": "code",
   "execution_count": 8,
   "metadata": {},
   "outputs": [
    {
     "data": {
      "text/plain": [
       "array(['Day 1', 'Day 2'], dtype=object)"
      ]
     },
     "execution_count": 8,
     "metadata": {},
     "output_type": "execute_result"
    }
   ],
   "source": [
    "independent_variable_values = pandas.unique(sample_dataframe[independent_col])\n",
    "independent_variable_values"
   ]
  },
  {
   "cell_type": "markdown",
   "metadata": {},
   "source": [
    "Now, we want to separate the samples corresponding to each independent variable and obtain a statistical description of them.\n",
    "\n",
    "We do this as follows:"
   ]
  },
  {
   "cell_type": "code",
   "execution_count": 9,
   "metadata": {},
   "outputs": [],
   "source": [
    "dependent_variable_data = pandas.DataFrame(columns=[day for day in independent_variable_values])"
   ]
  },
  {
   "cell_type": "markdown",
   "metadata": {},
   "source": [
    "This is equivalent to pandas.DataFrame(columns=[\"Day 1\", \"Day 2\"]), but the code in the block above would automatically create an additional column for any more days added to the dataset.\n",
    "Right now the DataFrame looks like this:"
   ]
  },
  {
   "cell_type": "code",
   "execution_count": 10,
   "metadata": {},
   "outputs": [
    {
     "data": {
      "text/html": [
       "<div>\n",
       "<style scoped>\n",
       "    .dataframe tbody tr th:only-of-type {\n",
       "        vertical-align: middle;\n",
       "    }\n",
       "\n",
       "    .dataframe tbody tr th {\n",
       "        vertical-align: top;\n",
       "    }\n",
       "\n",
       "    .dataframe thead th {\n",
       "        text-align: right;\n",
       "    }\n",
       "</style>\n",
       "<table border=\"1\" class=\"dataframe\">\n",
       "  <thead>\n",
       "    <tr style=\"text-align: right;\">\n",
       "      <th></th>\n",
       "      <th>Day 1</th>\n",
       "      <th>Day 2</th>\n",
       "    </tr>\n",
       "  </thead>\n",
       "  <tbody>\n",
       "  </tbody>\n",
       "</table>\n",
       "</div>"
      ],
      "text/plain": [
       "Empty DataFrame\n",
       "Columns: [Day 1, Day 2]\n",
       "Index: []"
      ]
     },
     "execution_count": 10,
     "metadata": {},
     "output_type": "execute_result"
    }
   ],
   "source": [
    "dependent_variable_data"
   ]
  },
  {
   "cell_type": "markdown",
   "metadata": {},
   "source": [
    "Let's put the correct data into it now.\n",
    "\n",
    "It looks complicated, but don't worry too much. \n",
    "If we unpack the lines below:\n",
    "1. sample_dataframe[dependent_col] selects the data in the dependent variable column.\n",
    "2. [sample_dataframe[independent_col]==independent_variable_values[0]] selects all the data where independent_col (Day) is equal to a specific value, independent_variable_values[0], ('Day 1').\n",
    "3. The final .reset_index(drop) ensures that the selected data does not retain a label showing its index in the original file."
   ]
  },
  {
   "cell_type": "code",
   "execution_count": 11,
   "metadata": {},
   "outputs": [],
   "source": [
    "dependent_variable_data[\"Day 1\"] = sample_dataframe[dependent_col][sample_dataframe[independent_col]==independent_variable_values[0]].reset_index(drop=True)\n",
    "dependent_variable_data[\"Day 2\"] = sample_dataframe[dependent_col][sample_dataframe[independent_col]==independent_variable_values[1]].reset_index(drop=True)"
   ]
  },
  {
   "cell_type": "markdown",
   "metadata": {},
   "source": [
    "Just to be clear, the following is equivalent, but less general:"
   ]
  },
  {
   "cell_type": "code",
   "execution_count": 12,
   "metadata": {},
   "outputs": [],
   "source": [
    "dependent_variable_data[\"Day 1\"] = sample_dataframe[\"Temperature\"][sample_dataframe[\"Day\"]==\"Day 1\"].reset_index(drop=True)\n",
    "dependent_variable_data[\"Day 2\"] = sample_dataframe[\"Temperature\"][sample_dataframe[\"Day\"]==\"Day 2\"].reset_index(drop=True)"
   ]
  },
  {
   "cell_type": "markdown",
   "metadata": {},
   "source": [
    "The data now looks like this:"
   ]
  },
  {
   "cell_type": "code",
   "execution_count": 13,
   "metadata": {},
   "outputs": [
    {
     "data": {
      "text/html": [
       "<div>\n",
       "<style scoped>\n",
       "    .dataframe tbody tr th:only-of-type {\n",
       "        vertical-align: middle;\n",
       "    }\n",
       "\n",
       "    .dataframe tbody tr th {\n",
       "        vertical-align: top;\n",
       "    }\n",
       "\n",
       "    .dataframe thead th {\n",
       "        text-align: right;\n",
       "    }\n",
       "</style>\n",
       "<table border=\"1\" class=\"dataframe\">\n",
       "  <thead>\n",
       "    <tr style=\"text-align: right;\">\n",
       "      <th></th>\n",
       "      <th>Day 1</th>\n",
       "      <th>Day 2</th>\n",
       "    </tr>\n",
       "  </thead>\n",
       "  <tbody>\n",
       "    <tr>\n",
       "      <th>0</th>\n",
       "      <td>15</td>\n",
       "      <td>14</td>\n",
       "    </tr>\n",
       "    <tr>\n",
       "      <th>1</th>\n",
       "      <td>17</td>\n",
       "      <td>15</td>\n",
       "    </tr>\n",
       "    <tr>\n",
       "      <th>2</th>\n",
       "      <td>19</td>\n",
       "      <td>18</td>\n",
       "    </tr>\n",
       "    <tr>\n",
       "      <th>3</th>\n",
       "      <td>19</td>\n",
       "      <td>19</td>\n",
       "    </tr>\n",
       "    <tr>\n",
       "      <th>4</th>\n",
       "      <td>18</td>\n",
       "      <td>21</td>\n",
       "    </tr>\n",
       "    <tr>\n",
       "      <th>5</th>\n",
       "      <td>16</td>\n",
       "      <td>18</td>\n",
       "    </tr>\n",
       "  </tbody>\n",
       "</table>\n",
       "</div>"
      ],
      "text/plain": [
       "   Day 1  Day 2\n",
       "0     15     14\n",
       "1     17     15\n",
       "2     19     18\n",
       "3     19     19\n",
       "4     18     21\n",
       "5     16     18"
      ]
     },
     "execution_count": 13,
     "metadata": {},
     "output_type": "execute_result"
    }
   ],
   "source": [
    "dependent_variable_data"
   ]
  },
  {
   "cell_type": "markdown",
   "metadata": {
    "id": "S36l28YNswFO"
   },
   "source": [
    "We can now request a statistical description of each column from our dataset:"
   ]
  },
  {
   "cell_type": "code",
   "execution_count": 14,
   "metadata": {
    "colab": {
     "base_uri": "https://localhost:8080/",
     "height": 168
    },
    "id": "iamwaiZdrT1Q",
    "outputId": "78f04a29-c11d-43cf-d1d4-4233877df70b"
   },
   "outputs": [
    {
     "data": {
      "text/html": [
       "<div>\n",
       "<style scoped>\n",
       "    .dataframe tbody tr th:only-of-type {\n",
       "        vertical-align: middle;\n",
       "    }\n",
       "\n",
       "    .dataframe tbody tr th {\n",
       "        vertical-align: top;\n",
       "    }\n",
       "\n",
       "    .dataframe thead th {\n",
       "        text-align: right;\n",
       "    }\n",
       "</style>\n",
       "<table border=\"1\" class=\"dataframe\">\n",
       "  <thead>\n",
       "    <tr style=\"text-align: right;\">\n",
       "      <th></th>\n",
       "      <th>Day 1</th>\n",
       "      <th>Day 2</th>\n",
       "    </tr>\n",
       "  </thead>\n",
       "  <tbody>\n",
       "    <tr>\n",
       "      <th>count</th>\n",
       "      <td>6.000000</td>\n",
       "      <td>6.000000</td>\n",
       "    </tr>\n",
       "    <tr>\n",
       "      <th>mean</th>\n",
       "      <td>17.333333</td>\n",
       "      <td>17.500000</td>\n",
       "    </tr>\n",
       "    <tr>\n",
       "      <th>std</th>\n",
       "      <td>1.632993</td>\n",
       "      <td>2.588436</td>\n",
       "    </tr>\n",
       "    <tr>\n",
       "      <th>min</th>\n",
       "      <td>15.000000</td>\n",
       "      <td>14.000000</td>\n",
       "    </tr>\n",
       "    <tr>\n",
       "      <th>25%</th>\n",
       "      <td>16.250000</td>\n",
       "      <td>15.750000</td>\n",
       "    </tr>\n",
       "    <tr>\n",
       "      <th>50%</th>\n",
       "      <td>17.500000</td>\n",
       "      <td>18.000000</td>\n",
       "    </tr>\n",
       "    <tr>\n",
       "      <th>75%</th>\n",
       "      <td>18.750000</td>\n",
       "      <td>18.750000</td>\n",
       "    </tr>\n",
       "    <tr>\n",
       "      <th>max</th>\n",
       "      <td>19.000000</td>\n",
       "      <td>21.000000</td>\n",
       "    </tr>\n",
       "  </tbody>\n",
       "</table>\n",
       "</div>"
      ],
      "text/plain": [
       "           Day 1      Day 2\n",
       "count   6.000000   6.000000\n",
       "mean   17.333333  17.500000\n",
       "std     1.632993   2.588436\n",
       "min    15.000000  14.000000\n",
       "25%    16.250000  15.750000\n",
       "50%    17.500000  18.000000\n",
       "75%    18.750000  18.750000\n",
       "max    19.000000  21.000000"
      ]
     },
     "execution_count": 14,
     "metadata": {},
     "output_type": "execute_result"
    }
   ],
   "source": [
    "sample_statistics = dependent_variable_data.describe()\n",
    "sample_statistics"
   ]
  },
  {
   "cell_type": "markdown",
   "metadata": {
    "id": "xERrrAlotO8d"
   },
   "source": [
    "And what we see returned is the sample size, the mean of our sample, the standard deviation (which is not of great use, can you explain why?), the minumum, maximum, and different percentiles. We can access the different information from each column by name or by index:"
   ]
  },
  {
   "cell_type": "code",
   "execution_count": 15,
   "metadata": {
    "colab": {
     "base_uri": "https://localhost:8080/",
     "height": 50
    },
    "id": "2zfc_ts-tgUB",
    "outputId": "153b25ae-48a9-432d-8c3c-ef0ed2c7d21b"
   },
   "outputs": [
    {
     "name": "stdout",
     "output_type": "stream",
     "text": [
      "17.333333333333332\n",
      "17.333333333333332\n"
     ]
    }
   ],
   "source": [
    "print(sample_statistics[\"Day 1\"][\"mean\"])\n",
    "\n",
    "print(sample_statistics[\"Day 1\"][1])"
   ]
  },
  {
   "cell_type": "markdown",
   "metadata": {
    "id": "8VGf3bMjw06b"
   },
   "source": [
    "We can now move on to the next part of module 1.\n",
    "\n",
    "## Hypothesis Testing\n",
    "We have already constructed a set of sample data to test our functions with, we have one indepedendent variable (Day) which takes on two different values (Day 1 and Day 2), and we have the temperature on those days as our dependent variables.\n",
    "The question we could ask now is, is the mean temperature of the two days statistically different? We can write this as a hypothesis test:\n",
    "\n",
    "$H_0 : \\mu_1 - \\mu_2 = 0$\\\n",
    "$H_1 : \\mu_1 - \\mu_2 \\neq 0$\n",
    "\n",
    "The independent sample t-test can be used to test this hypothesis. But, an underlying assumption of the independent samples t-test is that the two populations being compared have equal variances. \n",
    "\n",
    "The test for equal variance can be written as another hypothesis test and is commonly called the Levene test:\n",
    "\n",
    "$H_0 : \\sigma^2_1 - \\sigma^2_2 = 0$\\\n",
    "$H_1 : \\sigma^2_1 - \\sigma^2_2 \\neq 0$\n",
    "\n",
    "So let's add to our toolbox again. \n",
    "This time we are not writing our own function immediately, but first using a function from the stats library. This library includes the function stats.levene which performs the levene test. \n",
    "\n",
    "The Levene test function takes the data from each group and returns an $F$ and $p$ value. Depending on the desired significance level, we can then accept or reject the Levene test."
   ]
  },
  {
   "cell_type": "code",
   "execution_count": 16,
   "metadata": {
    "colab": {
     "base_uri": "https://localhost:8080/",
     "height": 34
    },
    "id": "pP73UTu6ywDm",
    "outputId": "50d347e7-fe32-4421-a621-1b76658c4a4f"
   },
   "outputs": [
    {
     "data": {
      "text/plain": [
       "LeveneResult(statistic=0.4245283018867924, pvalue=0.5293748457291648)"
      ]
     },
     "execution_count": 16,
     "metadata": {},
     "output_type": "execute_result"
    }
   ],
   "source": [
    "stats.levene(dependent_variable_data[\"Day 1\"], dependent_variable_data[\"Day 2\"])"
   ]
  },
  {
   "cell_type": "markdown",
   "metadata": {
    "id": "N2Za3G8QzYdT"
   },
   "source": [
    "If our significance level, $\\alpha$, is 0.05 (a common value), we can observe that in this case the $p$ value is larger than $\\alpha$ and so we fail to reject the null hypothesis: we cannot statistically discount the possibility that the two samples have equal variance at this level of significance.\n",
    "\n",
    "We now want to adress the question of equal means. Let's add the t-test to our toolbox:"
   ]
  },
  {
   "cell_type": "code",
   "execution_count": 17,
   "metadata": {
    "id": "KMEn4-p3zN38"
   },
   "outputs": [],
   "source": [
    "def t_test(data_group1, data_group2, confidence=0.95):\n",
    "    alpha = 1-confidence\n",
    "\n",
    "    if stats.levene(data_group1, data_group2)[1]>alpha:\n",
    "        equal_variance = True\n",
    "    else:\n",
    "        equal_variance = False\n",
    "\n",
    "    t, p = stats.ttest_ind(data_group1, data_group2, equal_var = equal_variance)\n",
    "\n",
    "    reject_H0 = \"True\"\n",
    "    if p > alpha:\n",
    "        reject_H0 = \"False\"\n",
    "\n",
    "    return({'t': t, \"p\": p, \"Reject H0\": reject_H0})"
   ]
  },
  {
   "cell_type": "markdown",
   "metadata": {
    "id": "2LwORbKky1aF"
   },
   "source": [
    "Our function to perform the $t$-test is called \"t-test\" and it takes three possible inputs:\n",
    "1. The data of the first column (or group) that would correspond to $\\mu_1$ in the hypothesis test, \n",
    "2. The data of the second column (or group) that would correspond to $\\mu_2$ in the hypothesis test, and finally, \n",
    "3. The desired confidence level, this will default to 95% if not specified.\n",
    "\n",
    "Inside the function, the confidence level is used to determine the $\\alpha$ value which is the significance level for the $t$-test.\\\n",
    "Then, the Levene test (which we discussed previously) is run to determine if the two groups have equal variance or not. This is done because the function that performs the $t$-test, [stats.ttest_ind](https://docs.scipy.org/doc/scipy/reference/generated/scipy.stats.ttest_ind.html), needs this as an input; it modifies the calculations based on whether or not the two groups have equal variance.\n",
    "\n",
    "So, after the Levene test we calculate the $t$ value and $p$ value of the $t$-test. The inputs to \"stats.ttest_ind\" are the data for the first group, the data for the second group, and the results of the Levene test.\n",
    "\n",
    "Finally, we check if $p$ is larger than our desired significance level.\n",
    "\n",
    "Let us illustrate this for our previous temperature dataset:"
   ]
  },
  {
   "cell_type": "code",
   "execution_count": 18,
   "metadata": {
    "colab": {
     "base_uri": "https://localhost:8080/",
     "height": 34
    },
    "id": "7ktpDZUA0LNn",
    "outputId": "284e8bff-ff95-44cd-e42a-48ba24ec5409"
   },
   "outputs": [
    {
     "data": {
      "text/plain": [
       "{'t': -0.133392632128053, 'p': 0.8965290851338013, 'Reject H0': 'False'}"
      ]
     },
     "execution_count": 18,
     "metadata": {},
     "output_type": "execute_result"
    }
   ],
   "source": [
    "t_test(dependent_variable_data[\"Day 1\"], dependent_variable_data[\"Day 2\"], confidence=0.95)"
   ]
  },
  {
   "cell_type": "markdown",
   "metadata": {
    "id": "1Zp6ec1w3UR7"
   },
   "source": [
    "The outputs from our function are the $t$ value, the $p$ value, and whether or not we accept the null hypothesis.\n",
    "We see that because the $p$ value is larger than our confidence level, we fail to reject the null hypothesis."
   ]
  },
  {
   "cell_type": "code",
   "execution_count": null,
   "metadata": {},
   "outputs": [],
   "source": []
  }
 ],
 "metadata": {
  "colab": {
   "name": "Module1_Python_Functions.ipynb",
   "provenance": [],
   "toc_visible": true
  },
  "kernelspec": {
   "display_name": "Python 3",
   "language": "python",
   "name": "python3"
  },
  "language_info": {
   "codemirror_mode": {
    "name": "ipython",
    "version": 3
   },
   "file_extension": ".py",
   "mimetype": "text/x-python",
   "name": "python",
   "nbconvert_exporter": "python",
   "pygments_lexer": "ipython3",
   "version": "3.6.10"
  }
 },
 "nbformat": 4,
 "nbformat_minor": 1
}
