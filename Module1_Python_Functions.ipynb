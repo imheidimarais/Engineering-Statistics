{
 "cells": [
  {
   "cell_type": "markdown",
   "metadata": {},
   "source": [
    "# Module 1 Tutorial"
   ]
  },
  {
   "cell_type": "markdown",
   "metadata": {},
   "source": [
    "There are numerous open-source libraries, collections of functions, that have been developed in Python that we will make use of in this course.\n",
    "\n",
    "The first one is called NumPy and you can find the documentation [here](https://numpy.org/). It is one of the most widely-used libraries for scientific computating in python. The second library we will use will be a module from Scipy, called scipy.stats ([scipy.stats documentation](https://docs.scipy.org/doc/scipy/reference/stats.html)), and the third is a library for handling database-like structures called Pandas for which you can find the documentation at this link: [Pandas documentation](https://pandas.pydata.org/docs/user_guide/index.html). Finally, we will use a plotting/visualisation tool called Matplotlib ([Matplotlib documentation](https://matplotlib.org/)).\n",
    "\n",
    "We import the libraries with the following statement:"
   ]
  },
  {
   "cell_type": "code",
   "execution_count": 1,
   "metadata": {},
   "outputs": [],
   "source": [
    "import numpy\n",
    "from scipy import stats\n",
    "import pandas\n",
    "from matplotlib import pyplot"
   ]
  },
  {
   "cell_type": "markdown",
   "metadata": {},
   "source": [
    "As one of the main ideas in module 1 was visualising and exploring data, let's begin with showing code to visualise our data.\n",
    "First, we need to have some data to work with. We will load in two datasets, one containing continuous data and one containing discrete data. "
   ]
  },
  {
   "cell_type": "code",
   "execution_count": 2,
   "metadata": {},
   "outputs": [],
   "source": [
    "continuous_data = pandas.read_csv(\n",
    "        r'https://raw.githubusercontent.com/imheidimarais/Engineering-Statistics/master/data/Normal_Data.csv'\n",
    "    )\n",
    "discrete_data = pandas.read_csv(\n",
    "        r'https://raw.githubusercontent.com/imheidimarais/Engineering-Statistics/master/data/Discrete_Data.csv'\n",
    "    )"
   ]
  },
  {
   "cell_type": "markdown",
   "metadata": {},
   "source": [
    "We can investigate the sizes of our datasets:"
   ]
  },
  {
   "cell_type": "code",
   "execution_count": 3,
   "metadata": {},
   "outputs": [
    {
     "name": "stdout",
     "output_type": "stream",
     "text": [
      "Size of continuous data: 50 rows, 1 column(s).\n",
      "Size of discrete data: 50 rows, 1 column(s).\n"
     ]
    }
   ],
   "source": [
    "print(f\"Size of continuous data: {continuous_data.shape[0]} rows, {continuous_data.shape[1]} column(s).\")\n",
    "print(f\"Size of discrete data: {discrete_data.shape[0]} rows, {discrete_data.shape[1]} column(s).\")"
   ]
  },
  {
   "cell_type": "markdown",
   "metadata": {},
   "source": [
    "So we see that we are working with a single sample, containing 50 values of the variable, in both cases. \n",
    "\n",
    "The first type of visualisation tool that was discussed was the histogram. We can construct a histogram several different ways. We will use the built-in histogram function that comes with pandas DataFrames ([pandas histogram documentation](https://pandas.pydata.org/pandas-docs/stable/reference/api/pandas.DataFrame.hist.html)). Because we have a single column we do not have to do much, but we will specify the column that we want to plot as the 0th column (the first and only column in the DataFrame) for the sake of completeness.\n",
    "\n",
    "Note that from here on in the code we will never reference our sample via the column names, we will use the column number in order to make the code more general and easier to use with different datasets that you may want to test it on."
   ]
  },
  {
   "cell_type": "code",
   "execution_count": 4,
   "metadata": {},
   "outputs": [
    {
     "data": {
      "image/png": "[encoded data removed]",
      "text/plain": [
       "<Figure size 360x360 with 1 Axes>"
      ]
     },
     "execution_count": 4,
     "metadata": {},
     "output_type": "execute_result"
    }
   ],
   "source": [
    "fig = pyplot.Figure(figsize=(5, 5))\n",
    "ax1 = fig.add_subplot(1, 1, 1)\n",
    "\n",
    "discrete_data.hist(column=discrete_data.columns[0], ax=ax1) \n",
    "\n",
    "ax1.set(\n",
    "        xlabel='$x$',\n",
    "        ylabel='Frequency'\n",
    "    )\n",
    "fig  # this just displays the figure in the cell output"
   ]
  },
  {
   "cell_type": "markdown",
   "metadata": {},
   "source": [
    "You can see it is very simple to let the plotting libraries select the number of bins desired in the histogram and perform the calculations. However, we see there are gaps in the plot due to the automatic selection of the bins. If we were interested in selecting the bins ourselves, perhaps in a specific problem we know something about our data, we could do that. \n",
    "\n",
    "Let's look at the discrete data:"
   ]
  },
  {
   "cell_type": "code",
   "execution_count": 5,
   "metadata": {},
   "outputs": [
    {
     "name": "stdout",
     "output_type": "stream",
     "text": [
      "The unique values found in the DataFrame are: [4. 1. 3. 2. 5. 6.]\n"
     ]
    }
   ],
   "source": [
    "unique_values = pandas.unique(discrete_data[discrete_data.columns[0]])\n",
    "print(f\"The unique values found in the DataFrame are: {unique_values}\")"
   ]
  },
  {
   "cell_type": "markdown",
   "metadata": {},
   "source": [
    "So in this case we could specify our bins manually according to the values we have in our data. We use the range function which takes a start point, a stop point, and an increment size. The stop point is not included in the range."
   ]
  },
  {
   "cell_type": "code",
   "execution_count": 6,
   "metadata": {},
   "outputs": [
    {
     "name": "stdout",
     "output_type": "stream",
     "text": [
      "The bounds of the bins are: [1, 2, 3, 4, 5, 6, 7]\n"
     ]
    },
    {
     "data": {
      "image/png": "[encoded data removed]",
      "text/plain": [
       "<Figure size 360x360 with 1 Axes>"
      ]
     },
     "execution_count": 6,
     "metadata": {},
     "output_type": "execute_result"
    }
   ],
   "source": [
    "bins = list(range(1, 8, 1)) # this will change based on your dataset\n",
    "print(f\"The bounds of the bins are: {bins}\")\n",
    "fig = pyplot.Figure(figsize=(5, 5))\n",
    "ax1 = fig.add_subplot(1, 1, 1)\n",
    "\n",
    "discrete_data.hist(column=discrete_data.columns[0], bins=bins, ax=ax1)\n",
    "\n",
    "ax1.set(\n",
    "        xlabel='$x$',\n",
    "        ylabel='Frequency'\n",
    "    )\n",
    "fig"
   ]
  },
  {
   "cell_type": "markdown",
   "metadata": {},
   "source": [
    "We can see that our data is divided nicely now according to the values that we have. However, for the continuous data we cannot so easily specify precise bounds for the bins, only how many we would like to have. For example:"
   ]
  },
  {
   "cell_type": "code",
   "execution_count": 7,
   "metadata": {},
   "outputs": [
    {
     "data": {
      "image/png": "[encoded data removed]",
      "text/plain": [
       "<Figure size 864x288 with 2 Axes>"
      ]
     },
     "execution_count": 7,
     "metadata": {},
     "output_type": "execute_result"
    }
   ],
   "source": [
    "number_bins1 = 10\n",
    "number_bins2 = 20\n",
    "fig = pyplot.Figure(figsize=(12, 4))\n",
    "ax1 = fig.add_subplot(1, 2, 1)\n",
    "ax2 = fig.add_subplot(1, 2, 2)\n",
    "\n",
    "continuous_data.hist(column=continuous_data.columns[0], bins=number_bins1, ax=ax1)\n",
    "continuous_data.hist(column=continuous_data.columns[0], bins=number_bins2, ax=ax2)\n",
    "\n",
    "ax1.set(\n",
    "        xlabel='$x$',\n",
    "        ylabel='Frequency'\n",
    "    )\n",
    "\n",
    "ax2.set(\n",
    "        xlabel='$x$',\n",
    "        ylabel='Frequency'\n",
    "    )\n",
    "fig"
   ]
  },
  {
   "cell_type": "markdown",
   "metadata": {},
   "source": [
    "Here we see the effect of changing the number of bins on the appearance of the histogram.\n",
    "\n",
    "The second type of visualisation tool that was discussed was the index plot. We do this with the pandas plot function, and specify a scatter type, while plotting against the index ([pandas plot documentation](https://pandas.pydata.org/docs/reference/api/pandas.DataFrame.plot.html))."
   ]
  },
  {
   "cell_type": "code",
   "execution_count": 8,
   "metadata": {},
   "outputs": [
    {
     "data": {
      "image/png": "[encoded data removed]",
      "text/plain": [
       "<Figure size 864x288 with 2 Axes>"
      ]
     },
     "execution_count": 8,
     "metadata": {},
     "output_type": "execute_result"
    }
   ],
   "source": [
    "fig = pyplot.Figure(figsize=(12, 4))\n",
    "ax1 = fig.add_subplot(1, 2, 1)\n",
    "ax2 = fig.add_subplot(1, 2, 2)\n",
    "\n",
    "continuous_data.reset_index().plot(x='index', y=continuous_data.columns[0], kind='scatter', ax=ax1)\n",
    "discrete_data.reset_index().plot(x='index', y=discrete_data.columns[0], kind='scatter', ax=ax2)\n",
    "\n",
    "ax1.set(\n",
    "        xlabel='Index',\n",
    "        ylabel='$x$'\n",
    "    )\n",
    "\n",
    "ax2.set(\n",
    "        xlabel='Index',\n",
    "        ylabel='$x$'\n",
    "    )\n",
    "fig"
   ]
  },
  {
   "cell_type": "markdown",
   "metadata": {},
   "source": [
    "Because of the way the data is stored in the DataFrame we must use 'reset_index()' before plotting to generate the index column to plot against. But above you can see the index plots for the continuous data (left) and the discrete data (right). Admittedly it is a bit more useful for the continuous data as we get a better idea of the mean and spread of the data.\n",
    "\n",
    "Moving on to the boxplots, this is again done quite simply with pandas ([pandas boxplot documentation](https://pandas.pydata.org/docs/reference/api/pandas.DataFrame.boxplot.html)):"
   ]
  },
  {
   "cell_type": "code",
   "execution_count": 9,
   "metadata": {},
   "outputs": [
    {
     "data": {
      "image/png": "[encoded data removed]",
      "text/plain": [
       "<Figure size 864x288 with 2 Axes>"
      ]
     },
     "execution_count": 9,
     "metadata": {},
     "output_type": "execute_result"
    }
   ],
   "source": [
    "fig = pyplot.Figure(figsize=(12, 4))\n",
    "ax1 = fig.add_subplot(1, 2, 1)\n",
    "ax2 = fig.add_subplot(1, 2, 2)\n",
    "\n",
    "continuous_data.boxplot(column=continuous_data.columns[0], ax=ax1)\n",
    "discrete_data.boxplot(column=discrete_data.columns[0], ax=ax2)\n",
    "\n",
    "ax1.set(\n",
    "        xlabel='Sample',\n",
    "        ylabel='$x$'        \n",
    "    )\n",
    "\n",
    "ax2.set(\n",
    "        xlabel='Sample',\n",
    "        ylabel='$x$'        \n",
    "    )\n",
    "fig"
   ]
  },
  {
   "cell_type": "markdown",
   "metadata": {},
   "source": [
    "On the left we see the continuous data, and on the right the discrete. Neither of these datasets contain suspected outliers.\n",
    "\n",
    "Finally we must look at the empirical cumulative distribution function. This requires a little bit more thought than the other figures we have produced so far.."
   ]
  },
  {
   "cell_type": "code",
   "execution_count": 10,
   "metadata": {},
   "outputs": [
    {
     "data": {
      "image/png": "[encoded data removed]",
      "text/plain": [
       "<Figure size 864x288 with 2 Axes>"
      ]
     },
     "execution_count": 10,
     "metadata": {},
     "output_type": "execute_result"
    }
   ],
   "source": [
    "continuous_data_sorted = continuous_data.sort_values(by=continuous_data.columns[0], ascending=True) #sort the data by x-value\n",
    "ecdf = [n/continuous_data_sorted.shape[0] for n in range(1, continuous_data_sorted.shape[0]+1)] \n",
    "# In the above line we calculate the proportion of values equal or less than the given x for contiuous data.\n",
    "continuous_data_sorted['ecdf'] = numpy.array(ecdf)\n",
    "\n",
    "discrete_data_ecdf = discrete_data.value_counts(sort=False, ascending=True, normalize=True).cumsum()\n",
    "discrete_data_ecdf = discrete_data_ecdf.reset_index(drop=True).to_frame()\n",
    "unique_values = numpy.unique(discrete_data[discrete_data.columns[0]])\n",
    "discrete_data_ecdf['Unique Values'] = unique_values\n",
    "\n",
    "fig = pyplot.Figure(figsize=(12, 4))\n",
    "ax1 = fig.add_subplot(1, 2, 1)\n",
    "ax2 = fig.add_subplot(1, 2, 2)\n",
    "\n",
    "continuous_data_sorted.plot(x=continuous_data_sorted.columns[0], y='ecdf', kind='scatter', ax=ax1)\n",
    "discrete_data_ecdf.plot(x='Unique Values', y=discrete_data_ecdf.columns[0], kind='scatter', ax=ax2)\n",
    "\n",
    "ax1.set(\n",
    "        xlabel='$x$',\n",
    "        ylabel='ecdf'   \n",
    "    )\n",
    "\n",
    "ax2.set(\n",
    "        xlabel='$x$',\n",
    "        ylabel='ecdf'\n",
    "    )\n",
    "fig"
   ]
  },
  {
   "cell_type": "markdown",
   "metadata": {},
   "source": [
    "The block of code above may appear a bit convoluted, which it is in an attempt to write code that is more general and can be applied to unkown datasets. Just remember the principle of what is being plotted in an ecdf; the fraction of observations equal to, or less than, the given x value, versus the x value. This means the plots should always start with a y value above zero, and end with a y value of exactly one. \n",
    "\n",
    "Next to discuss is the statistics that we can calculate from our sample data. We could obtain the mean, and variance individually, or we could use a built in pandas function called describe. We see this for the continuous data below:"
   ]
  },
  {
   "cell_type": "code",
   "execution_count": 11,
   "metadata": {},
   "outputs": [
    {
     "name": "stdout",
     "output_type": "stream",
     "text": [
      "               X\n",
      "count  50.000000\n",
      "mean    3.443760\n",
      "std     5.887546\n",
      "min    -8.280000\n",
      "25%    -0.247500\n",
      "50%     3.210000\n",
      "75%     7.022500\n",
      "max    15.500000\n"
     ]
    }
   ],
   "source": [
    "descriptive_statistics_continous_data = continuous_data.describe()\n",
    "print(descriptive_statistics_continous_data)"
   ]
  },
  {
   "cell_type": "markdown",
   "metadata": {},
   "source": [
    "What we see returned is the sample size, the mean of our sample, the standard deviation, the minumum, maximum, and different percentiles. We can access the different information from each column by name or by index:"
   ]
  },
  {
   "cell_type": "code",
   "execution_count": 12,
   "metadata": {},
   "outputs": [
    {
     "name": "stdout",
     "output_type": "stream",
     "text": [
      "3.44376\n",
      "3.44376\n"
     ]
    }
   ],
   "source": [
    "print(descriptive_statistics_continous_data[continuous_data.columns[0]][\"mean\"])\n",
    "print(descriptive_statistics_continous_data[continuous_data.columns[0]][1])"
   ]
  },
  {
   "cell_type": "markdown",
   "metadata": {},
   "source": [
    "We can also calculate the standard error using the scipy stats function."
   ]
  },
  {
   "cell_type": "code",
   "execution_count": 13,
   "metadata": {},
   "outputs": [
    {
     "name": "stdout",
     "output_type": "stream",
     "text": [
      "standard error: 0.8326246965800991\n"
     ]
    }
   ],
   "source": [
    "standard_error_continuous_data = stats.sem(continuous_data[continuous_data.columns[0]])\n",
    "print(f\"standard error: {standard_error_continuous_data}\")"
   ]
  },
  {
   "cell_type": "markdown",
   "metadata": {},
   "source": [
    "For a sanity check, we can compute the values ourselves to confirm the libraries are using the equations we expect:"
   ]
  },
  {
   "cell_type": "code",
   "execution_count": 14,
   "metadata": {},
   "outputs": [
    {
     "name": "stdout",
     "output_type": "stream",
     "text": [
      "Sample Size: 50\n",
      "Sample Mean: 3.4437600000000006\n",
      "Sample Variance: 34.663194267755095, Sample Standard Deviation: 5.887545691351796\n",
      "Standard Error: 0.832624696580099\n"
     ]
    }
   ],
   "source": [
    "n = continuous_data[continuous_data.columns[0]].shape[0] # the sample size\n",
    "mean = (1/n)*continuous_data[continuous_data.columns[0]].sum() \n",
    "variance = (1/(n-1))*((continuous_data[continuous_data.columns[0]] - mean)**2).sum()\n",
    "standard_deviation = numpy.sqrt(variance)\n",
    "standard_error = standard_deviation/numpy.sqrt(n)\n",
    "\n",
    "print(f\"Sample Size: {n}\")\n",
    "print(f\"Sample Mean: {mean}\")\n",
    "print(f\"Sample Variance: {variance}, Sample Standard Deviation: {standard_deviation}\")\n",
    "print(f\"Standard Error: {standard_error}\")"
   ]
  },
  {
   "cell_type": "markdown",
   "metadata": {},
   "source": [
    "There is one final thing you may be interested in doing, generating normally distributed data that has the same mean and variance as your sample, to compare the distributions. There is a simple way to do this using numpy. \n",
    "First, we create a random generator. Then, specifying the mean, standard deviation, and the number of observations we desire, we can generate this normally distributed data."
   ]
  },
  {
   "cell_type": "code",
   "execution_count": 15,
   "metadata": {},
   "outputs": [
    {
     "data": {
      "image/png": "[encoded data removed]",
      "text/plain": [
       "<Figure size 864x288 with 2 Axes>"
      ]
     },
     "execution_count": 15,
     "metadata": {},
     "output_type": "execute_result"
    }
   ],
   "source": [
    "rng = numpy.random.default_rng()\n",
    "normally_distributed_data = rng.normal(loc=mean, scale=standard_deviation, size=100)\n",
    "normally_distributed_data = pandas.DataFrame(normally_distributed_data)\n",
    "\n",
    "number_bins = 20\n",
    "fig = pyplot.Figure(figsize=(12, 4))\n",
    "ax1 = fig.add_subplot(1, 2, 1)\n",
    "ax2 = fig.add_subplot(1, 2, 2)\n",
    "\n",
    "continuous_data.hist(column=continuous_data.columns[0], bins=number_bins, density=True, ax=ax1)\n",
    "normally_distributed_data.hist(column=normally_distributed_data.columns[0], bins=number_bins, density=True, ax=ax2)\n",
    "\n",
    "xrange1 = (continuous_data[continuous_data.columns[0]].min(), continuous_data[continuous_data.columns[0]].max())\n",
    "normal_pdf_xs = numpy.linspace(xrange1[0], xrange1[1], 100)\n",
    "normal_pdf_ys = stats.norm.pdf(normal_pdf_xs, loc=mean, scale=standard_deviation)\n",
    "ax1.plot(normal_pdf_xs, normal_pdf_ys, c=\"orange\")\n",
    "ax2.plot(normal_pdf_xs, normal_pdf_ys, c=\"orange\")\n",
    "\n",
    "\n",
    "\n",
    "ax1.set(\n",
    "        xlabel='$x$',\n",
    "        ylabel='Frequency'\n",
    "    )\n",
    "\n",
    "ax2.set(\n",
    "        xlabel='$x$',\n",
    "        ylabel='Frequency'\n",
    "    )\n",
    "fig"
   ]
  },
  {
   "cell_type": "markdown",
   "metadata": {},
   "source": [
    "To the left we see our sample data in the histogram we plotted previously, and to the right we see the normally distributed data with the same mean and variance as our data, also as a histogram. Overlayed on both of these plots is the theoretical pdf for the normal distribution with the given mean and variance. It seems unlikely that this data is normally discributed due to the 'holes' before 5 and around 6. "
   ]
  },
  {
   "cell_type": "code",
   "execution_count": null,
   "metadata": {},
   "outputs": [],
   "source": []
  }
 ],
 "metadata": {
  "kernelspec": {
   "display_name": "Python 3",
   "language": "python",
   "name": "python3"
  },
  "language_info": {
   "codemirror_mode": {
    "name": "ipython",
    "version": 3
   },
   "file_extension": ".py",
   "mimetype": "text/x-python",
   "name": "python",
   "nbconvert_exporter": "python",
   "pygments_lexer": "ipython3",
   "version": "3.6.10"
  }
 },
 "nbformat": 4,
 "nbformat_minor": 4
}
