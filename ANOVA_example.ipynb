{
 "cells": [
  {
   "cell_type": "markdown",
   "metadata": {},
   "source": [
    "# Question \n",
    "A pharmaceutical company conducts an experiment to test the effect of a new cholesterol medication. The company selects 15 subjects randomly from a larger population. Each subject is randomly assigned to one of three treatment groups. Within each treatment group subjects receive a different dose of the new medication. \n",
    "\n",
    "In conducting the experiment there are two questions to answer:\n",
    "1. Does the dosage level have a significant effect on cholesterol level?\n",
    "2. How strong is the effect of dosage on cholesterol level?\n",
    "\n",
    "Use a one-way ANOVA to answer these questions, use a confidence level of 95% in your analysis. Perform a post-hoc test if necessary."
   ]
  },
  {
   "cell_type": "code",
   "execution_count": 1,
   "metadata": {},
   "outputs": [],
   "source": [
    "import pandas\n",
    "from scipy import stats\n",
    "import numpy\n",
    "import itertools\n",
    "\n",
    "from functions.module2 import ANOVA"
   ]
  },
  {
   "cell_type": "markdown",
   "metadata": {},
   "source": [
    "The first step is to load in our data from our excel or csv file.\n",
    "We will also look at the headings of the columns in our data to get an idea of what we are working with."
   ]
  },
  {
   "cell_type": "code",
   "execution_count": 2,
   "metadata": {},
   "outputs": [
    {
     "data": {
      "text/plain": [
       "Index(['Group', 'Dosage [mg/day]', 'Cholesterol Level'], dtype='object')"
      ]
     },
     "execution_count": 2,
     "metadata": {},
     "output_type": "execute_result"
    }
   ],
   "source": [
    "cholesterol_data = pandas.read_csv('data//Cholesterol.csv')\n",
    "column_names = cholesterol_data.columns\n",
    "column_names"
   ]
  },
  {
   "cell_type": "markdown",
   "metadata": {},
   "source": [
    "We see that we have the group, the dosage they recieved, and the cholesterol level of the subjects, supplied in the data.\n",
    "We identify from the question that the dosage is the independent variable and the cholesterol level is the dependent variable.\n",
    "Let's assign the names of those columns to variables:"
   ]
  },
  {
   "cell_type": "code",
   "execution_count": 3,
   "metadata": {},
   "outputs": [],
   "source": [
    "independent_col = column_names[1]  # Dosage\n",
    "dependent_col = column_names[2]  # Cholesterol Level"
   ]
  },
  {
   "cell_type": "markdown",
   "metadata": {},
   "source": [
    "Note that we could also simply use the group number as our independent variable, which may be easier, but does not make a difference to the analysis.\n",
    "Next we should find out how many values of our independent variable are present and what they are. We do that with a pandas command that finds the unique values in a given column. "
   ]
  },
  {
   "cell_type": "code",
   "execution_count": 4,
   "metadata": {},
   "outputs": [
    {
     "data": {
      "text/plain": [
       "array([  0,  50, 100], dtype=int64)"
      ]
     },
     "execution_count": 4,
     "metadata": {},
     "output_type": "execute_result"
    }
   ],
   "source": [
    "independent_variable_values = pandas.unique(cholesterol_data[independent_col])\n",
    "independent_variable_values"
   ]
  },
  {
   "cell_type": "markdown",
   "metadata": {},
   "source": [
    "We see that there are three dosages; 0, 50, and 100 mg/day. We can compare these to the groups:"
   ]
  },
  {
   "cell_type": "code",
   "execution_count": 5,
   "metadata": {},
   "outputs": [
    {
     "data": {
      "text/plain": [
       "array([1, 2, 3], dtype=int64)"
      ]
     },
     "execution_count": 5,
     "metadata": {},
     "output_type": "execute_result"
    }
   ],
   "source": [
    "independent_variable_values = pandas.unique(cholesterol_data['Group'])\n",
    "independent_variable_values"
   ]
  },
  {
   "cell_type": "markdown",
   "metadata": {},
   "source": [
    "and we see there are three groups: 1, 2, and 3. We can also just print the whole dataset, we see that the group 1 corresponds to a dosage of 0, etc."
   ]
  },
  {
   "cell_type": "code",
   "execution_count": 6,
   "metadata": {},
   "outputs": [
    {
     "data": {
      "text/html": [
       "<div>\n",
       "<style scoped>\n",
       "    .dataframe tbody tr th:only-of-type {\n",
       "        vertical-align: middle;\n",
       "    }\n",
       "\n",
       "    .dataframe tbody tr th {\n",
       "        vertical-align: top;\n",
       "    }\n",
       "\n",
       "    .dataframe thead th {\n",
       "        text-align: right;\n",
       "    }\n",
       "</style>\n",
       "<table border=\"1\" class=\"dataframe\">\n",
       "  <thead>\n",
       "    <tr style=\"text-align: right;\">\n",
       "      <th></th>\n",
       "      <th>Group</th>\n",
       "      <th>Dosage [mg/day]</th>\n",
       "      <th>Cholesterol Level</th>\n",
       "    </tr>\n",
       "  </thead>\n",
       "  <tbody>\n",
       "    <tr>\n",
       "      <th>0</th>\n",
       "      <td>1</td>\n",
       "      <td>0</td>\n",
       "      <td>210</td>\n",
       "    </tr>\n",
       "    <tr>\n",
       "      <th>1</th>\n",
       "      <td>1</td>\n",
       "      <td>0</td>\n",
       "      <td>240</td>\n",
       "    </tr>\n",
       "    <tr>\n",
       "      <th>2</th>\n",
       "      <td>1</td>\n",
       "      <td>0</td>\n",
       "      <td>270</td>\n",
       "    </tr>\n",
       "    <tr>\n",
       "      <th>3</th>\n",
       "      <td>1</td>\n",
       "      <td>0</td>\n",
       "      <td>270</td>\n",
       "    </tr>\n",
       "    <tr>\n",
       "      <th>4</th>\n",
       "      <td>1</td>\n",
       "      <td>0</td>\n",
       "      <td>300</td>\n",
       "    </tr>\n",
       "    <tr>\n",
       "      <th>5</th>\n",
       "      <td>2</td>\n",
       "      <td>50</td>\n",
       "      <td>210</td>\n",
       "    </tr>\n",
       "    <tr>\n",
       "      <th>6</th>\n",
       "      <td>2</td>\n",
       "      <td>50</td>\n",
       "      <td>240</td>\n",
       "    </tr>\n",
       "    <tr>\n",
       "      <th>7</th>\n",
       "      <td>2</td>\n",
       "      <td>50</td>\n",
       "      <td>240</td>\n",
       "    </tr>\n",
       "    <tr>\n",
       "      <th>8</th>\n",
       "      <td>2</td>\n",
       "      <td>50</td>\n",
       "      <td>270</td>\n",
       "    </tr>\n",
       "    <tr>\n",
       "      <th>9</th>\n",
       "      <td>2</td>\n",
       "      <td>50</td>\n",
       "      <td>270</td>\n",
       "    </tr>\n",
       "    <tr>\n",
       "      <th>10</th>\n",
       "      <td>3</td>\n",
       "      <td>100</td>\n",
       "      <td>180</td>\n",
       "    </tr>\n",
       "    <tr>\n",
       "      <th>11</th>\n",
       "      <td>3</td>\n",
       "      <td>100</td>\n",
       "      <td>210</td>\n",
       "    </tr>\n",
       "    <tr>\n",
       "      <th>12</th>\n",
       "      <td>3</td>\n",
       "      <td>100</td>\n",
       "      <td>210</td>\n",
       "    </tr>\n",
       "    <tr>\n",
       "      <th>13</th>\n",
       "      <td>3</td>\n",
       "      <td>100</td>\n",
       "      <td>210</td>\n",
       "    </tr>\n",
       "    <tr>\n",
       "      <th>14</th>\n",
       "      <td>3</td>\n",
       "      <td>100</td>\n",
       "      <td>240</td>\n",
       "    </tr>\n",
       "  </tbody>\n",
       "</table>\n",
       "</div>"
      ],
      "text/plain": [
       "    Group  Dosage [mg/day]  Cholesterol Level\n",
       "0       1                0                210\n",
       "1       1                0                240\n",
       "2       1                0                270\n",
       "3       1                0                270\n",
       "4       1                0                300\n",
       "5       2               50                210\n",
       "6       2               50                240\n",
       "7       2               50                240\n",
       "8       2               50                270\n",
       "9       2               50                270\n",
       "10      3              100                180\n",
       "11      3              100                210\n",
       "12      3              100                210\n",
       "13      3              100                210\n",
       "14      3              100                240"
      ]
     },
     "execution_count": 6,
     "metadata": {},
     "output_type": "execute_result"
    }
   ],
   "source": [
    "cholesterol_data"
   ]
  },
  {
   "cell_type": "markdown",
   "metadata": {},
   "source": [
    "Now, we can first break the dataset up into the individual groups, like we did in module 1, in order to look at some decriptive statistics and test some of our assumptions. We use the group numbers as our independent variable."
   ]
  },
  {
   "cell_type": "code",
   "execution_count": 7,
   "metadata": {},
   "outputs": [],
   "source": [
    "dependent_variable_data = pandas.DataFrame(columns=[group for group in pandas.unique(cholesterol_data['Group'])])\n",
    "for group in pandas.unique(cholesterol_data['Group']):\n",
    "    dependent_variable_data[group] = cholesterol_data[\"Cholesterol Level\"][cholesterol_data[\"Group\"]==group].reset_index(drop=True)"
   ]
  },
  {
   "cell_type": "markdown",
   "metadata": {},
   "source": [
    "Now we can get the statistics for the various groups:"
   ]
  },
  {
   "cell_type": "code",
   "execution_count": 8,
   "metadata": {},
   "outputs": [
    {
     "name": "stdout",
     "output_type": "stream",
     "text": [
      "                1           2           3\n",
      "count    5.000000    5.000000    5.000000\n",
      "mean   258.000000  246.000000  210.000000\n",
      "std     34.205263   25.099801   21.213203\n",
      "min    210.000000  210.000000  180.000000\n",
      "25%    240.000000  240.000000  210.000000\n",
      "50%    270.000000  240.000000  210.000000\n",
      "75%    270.000000  270.000000  210.000000\n",
      "max    300.000000  270.000000  240.000000\n"
     ]
    }
   ],
   "source": [
    "print(dependent_variable_data.describe())"
   ]
  },
  {
   "cell_type": "markdown",
   "metadata": {},
   "source": [
    "We can perform the Shapiro-Wilk test for normality:"
   ]
  },
  {
   "cell_type": "code",
   "execution_count": 9,
   "metadata": {},
   "outputs": [
    {
     "name": "stdout",
     "output_type": "stream",
     "text": [
      "1 ShapiroResult(statistic=0.9608590006828308, pvalue=0.8139519691467285)\n",
      "2 ShapiroResult(statistic=0.8810376524925232, pvalue=0.3140396773815155)\n",
      "3 ShapiroResult(statistic=0.883490800857544, pvalue=0.3254301846027374)\n"
     ]
    }
   ],
   "source": [
    "for group in dependent_variable_data.columns:\n",
    "    print(group, stats.shapiro(dependent_variable_data[group]))"
   ]
  },
  {
   "cell_type": "markdown",
   "metadata": {},
   "source": [
    "and the Levene test for equality of variance:"
   ]
  },
  {
   "cell_type": "code",
   "execution_count": 10,
   "metadata": {},
   "outputs": [
    {
     "name": "stdout",
     "output_type": "stream",
     "text": [
      "1 2 LeveneResult(statistic=0.2, pvalue=0.6665811073830712)\n",
      "1 3 LeveneResult(statistic=0.8, pvalue=0.3972038407802933)\n",
      "2 3 LeveneResult(statistic=0.3333333333333333, pvalue=0.5795839999999997)\n"
     ]
    }
   ],
   "source": [
    "for group1,group2 in itertools.combinations(dependent_variable_data.columns,2):\n",
    "    print(group1,group2, stats.levene(dependent_variable_data[group1],dependent_variable_data[group2]))"
   ]
  },
  {
   "cell_type": "markdown",
   "metadata": {},
   "source": [
    "For both tests the $p$ values are large, so we cannot reject our null-hypotheses and we can assume that the required assumptions are correct.\n",
    "\n",
    "So, we perform the ANOVA (remember to use the original dataset before we split the dependent variables):"
   ]
  },
  {
   "cell_type": "code",
   "execution_count": 11,
   "metadata": {},
   "outputs": [
    {
     "name": "stdout",
     "output_type": "stream",
     "text": [
      "Variation due to      DoF    Sum of squares  mean squares    F ratio\n",
      "------------------  -----  ----------------  --------------  ---------\n",
      "Between                 2              6240  3120.0          4.16\n",
      "Within                 12              9000  750.0\n",
      "Total                  14             15240\n",
      "Significance (p value): 0.04241751817647503\n",
      "\n",
      "\n",
      "Reject null-hypothesis: There are statistical differences present.\n",
      "Multiple Comparison of Means - Tukey HSD, FWER=0.05\n",
      "===================================================\n",
      "group1 group2 meandiff p-adj   lower  upper  reject\n",
      "---------------------------------------------------\n",
      "     1      2    -12.0 0.7611 -58.186 34.186  False\n",
      "     1      3    -48.0 0.0415 -94.186 -1.814   True\n",
      "     2      3    -36.0  0.136 -82.186 10.186  False\n",
      "---------------------------------------------------\n"
     ]
    }
   ],
   "source": [
    "ANOVA(cholesterol_data, \"Group\", \"Cholesterol Level\", confidence=0.95)"
   ]
  },
  {
   "cell_type": "markdown",
   "metadata": {},
   "source": [
    "The $p$ value from the ANOVA was smaller than our desired significance limit, so we reject the null hypothesis and perform a post-hoc Tukey test.\n",
    "\n",
    "We see that there are significant differences between group 1 and group 3, and this concludes our analysis."
   ]
  }
 ],
 "metadata": {
  "kernelspec": {
   "display_name": "Python 3",
   "language": "python",
   "name": "python3"
  },
  "language_info": {
   "codemirror_mode": {
    "name": "ipython",
    "version": 3
   },
   "file_extension": ".py",
   "mimetype": "text/x-python",
   "name": "python",
   "nbconvert_exporter": "python",
   "pygments_lexer": "ipython3",
   "version": "3.7.4"
  }
 },
 "nbformat": 4,
 "nbformat_minor": 4
}
